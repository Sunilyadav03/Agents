{
 "cells": [
  {
   "cell_type": "code",
   "execution_count": 181,
   "id": "bd002d47",
   "metadata": {},
   "outputs": [],
   "source": [
    "from langgraph.graph import StateGraph, START, END\n",
    "from langchain_openai import ChatOpenAI\n",
    "from langgraph.prebuilt import ToolNode\n",
    "from dotenv import load_dotenv\n",
    "from langchain_community.utilities import SQLDatabase\n",
    "from langchain_community.agent_toolkits import SQLDatabaseToolkit\n",
    "import sqlite3\n",
    "from langchain_core.tools import tool\n",
    "from typing import Annotated, Literal\n",
    "from langchain_core.messages import AIMessage\n",
    "from pydantic.v1 import BaseModel, Field\n",
    "from typing_extensions import TypedDict\n",
    "from langgraph.graph.message import AnyMessage, add_messages\n",
    "from typing import Any\n",
    "from langchain_core.messages import ToolMessage\n",
    "from langchain_core.runnables import RunnableLambda, RunnableWithFallbacks\n"
   ]
  },
  {
   "cell_type": "code",
   "execution_count": 182,
   "id": "91f27466",
   "metadata": {},
   "outputs": [],
   "source": [
    "llm= ChatOpenAI()"
   ]
  },
  {
   "cell_type": "code",
   "execution_count": 183,
   "id": "4f48b0ce",
   "metadata": {},
   "outputs": [],
   "source": [
    "connection= sqlite3.connect('employee.db')"
   ]
  },
  {
   "cell_type": "code",
   "execution_count": 184,
   "id": "f846ae35",
   "metadata": {},
   "outputs": [
    {
     "data": {
      "text/plain": [
       "<sqlite3.Connection at 0x117268f40>"
      ]
     },
     "execution_count": 184,
     "metadata": {},
     "output_type": "execute_result"
    }
   ],
   "source": [
    "connection"
   ]
  },
  {
   "cell_type": "code",
   "execution_count": 185,
   "id": "d2ddeafa",
   "metadata": {},
   "outputs": [],
   "source": [
    "table_creation_query= \"\"\"\n",
    "CREATE TABLE IF NOT EXISTS employees(\n",
    "    emp_id INTEGER PRIMARY KEY,\n",
    "    first_name TEXT NOT NULL,\n",
    "    last_name TEXT NOT NULL,\n",
    "    email TEXT UNIQUE NOT NULL,\n",
    "    hire_date TEXT NOT NULL,\n",
    "    salary REAL NOT NULL\n",
    ");\n",
    "\"\"\" "
   ]
  },
  {
   "cell_type": "code",
   "execution_count": 186,
   "id": "8f3319d4",
   "metadata": {},
   "outputs": [],
   "source": [
    "table_creation_query2= \"\"\"\n",
    "CREATE TABLE IF NOT EXISTS customers(\n",
    "    customer_id INTEGER PRIMARY KEY AUTOINCREMENT,\n",
    "    first_name TEXT NOT NULL,\n",
    "    last_name TEXT NOT NULL,\n",
    "    email TEXT UNIQUE NOT NULL,\n",
    "    phone TEXT\n",
    ");\n",
    "\"\"\""
   ]
  },
  {
   "cell_type": "code",
   "execution_count": 187,
   "id": "68816bb7",
   "metadata": {},
   "outputs": [],
   "source": [
    "table_creation_query3= \"\"\"\n",
    "CREATE TABLE IF NOT EXISTS orders(\n",
    "    order_id INTEGER PRIMARY KEY AUTOINCREMENT,\n",
    "    customer_id INTEGER NOT NULL,\n",
    "    order_date TEXT NOT NULL,\n",
    "    amount REAL NOT NULL,\n",
    "    FOREIGN KEY (customer_id) REFERENCES customers (customer_id)\n",
    "    );\n",
    "    \"\"\""
   ]
  },
  {
   "cell_type": "code",
   "execution_count": 188,
   "id": "2cd76933",
   "metadata": {},
   "outputs": [],
   "source": [
    "cursor= connection.cursor()"
   ]
  },
  {
   "cell_type": "code",
   "execution_count": 189,
   "id": "2e10b3e9",
   "metadata": {},
   "outputs": [
    {
     "data": {
      "text/plain": [
       "<sqlite3.Cursor at 0x11724c9c0>"
      ]
     },
     "execution_count": 189,
     "metadata": {},
     "output_type": "execute_result"
    }
   ],
   "source": [
    "cursor.execute(table_creation_query)\n",
    "cursor.execute(table_creation_query2)\n",
    "cursor.execute(table_creation_query3)"
   ]
  },
  {
   "cell_type": "code",
   "execution_count": 190,
   "id": "60860384",
   "metadata": {},
   "outputs": [],
   "source": [
    "insert_query = \"\"\"\n",
    "INSERT INTO employees (emp_id, first_name, last_name, email, hire_date, salary)\n",
    "VALUES (?, ?, ?, ?, ?, ?);\n",
    "\"\"\"\n",
    "\n",
    "insert_query_customers = \"\"\"\n",
    "INSERT INTO customers (customer_id, first_name, last_name, email, phone)\n",
    "VALUES (?, ?, ?, ?, ?);\n",
    "\"\"\"\n",
    "\n",
    "insert_query_orders = \"\"\"\n",
    "INSERT INTO orders (order_id, customer_id, order_date, amount)\n",
    "VALUES (?, ?, ?, ?);\n",
    "\"\"\"\n"
   ]
  },
  {
   "cell_type": "code",
   "execution_count": 191,
   "id": "d8162919",
   "metadata": {},
   "outputs": [],
   "source": [
    "employee_data = [\n",
    "    (1, \"Devendra\", \"Sharma\", \"devendra.sharma@abc.com\", \"2023-07-01\", 52000.00),  \n",
    "    (2, \"Arjun\", \"yadav\", \"arjun.yadav@gmail.com\", \"2022-05-10\", 62000.00),  \n",
    "    (3, \"john\", \"vadra\", \"john.vadra@jpg.com\", \"2021-10-15\", 57000.00),  \n",
    "    (4, \"Robert\", \"Smith\", \"robert.smith@uio.com\", \"2020-02-01\", 47000.00),  \n",
    "]\n",
    "\n",
    "customers_data = [\n",
    "    (1, \"Rahul\", \"Yadav\", \"johnny.doe@newemail.com\", \"1234567891\"),  \n",
    "    (2, \"Mohit\", \"Shrivastva\", \"janet.smith@newemail.com\", \"9876543211\"),  \n",
    "    (3, \"Salman\", \"khusird\", \"emma.davis@newemail.com\", \"4567891231\"),    \n",
    "    (4, \"Devesh\", \"choudhary\", \"mike.brown@newemail.com\", \"7894561231\"),    \n",
    "]\n",
    "orders_data = [\n",
    "    (1, 2, \"2023-12-05\", 275.50),  \n",
    "    (2, 1, \"2023-11-22\", 175.25),  \n",
    "    (3, 4, \"2023-11-28\", 325.00),  \n",
    "    (4, 3, \"2023-12-03\", 475.75),  \n",
    "]"
   ]
  },
  {
   "cell_type": "code",
   "execution_count": 192,
   "id": "e7bf4514",
   "metadata": {},
   "outputs": [
    {
     "name": "stdout",
     "output_type": "stream",
     "text": [
      "(1, 'Devendra', 'Sharma', 'devendra.sharma@abc.com', '2023-07-01', 52000.0)\n",
      "(2, 'Arjun', 'yadav', 'arjun.yadav@gmail.com', '2022-05-10', 62000.0)\n",
      "(3, 'john', 'vadra', 'john.vadra@jpg.com', '2021-10-15', 57000.0)\n",
      "(4, 'Robert', 'Smith', 'robert.smith@uio.com', '2020-02-01', 47000.0)\n"
     ]
    }
   ],
   "source": [
    "cursor.executemany(insert_query,employee_data)\n",
    "\n",
    "cursor.executemany(insert_query_customers,customers_data)\n",
    "\n",
    "cursor.executemany(insert_query_orders,orders_data)\n",
    "\n",
    "connection.commit()\n",
    "cursor.execute(\"select * from employees;\")\n",
    "\n",
    "for row in cursor.fetchall():\n",
    "    print(row)\n",
    "\n",
    "# cursor.fetchall()"
   ]
  },
  {
   "cell_type": "code",
   "execution_count": 193,
   "id": "5d3c26fd",
   "metadata": {},
   "outputs": [
    {
     "data": {
      "text/plain": [
       "[('Devendra',), ('Arjun',), ('john',)]"
      ]
     },
     "execution_count": 193,
     "metadata": {},
     "output_type": "execute_result"
    }
   ],
   "source": [
    "cursor.execute(\"select first_name from employees where salary > 50000.0;\")\n",
    "\n",
    "cursor.fetchall()\n",
    "\n"
   ]
  },
  {
   "cell_type": "code",
   "execution_count": 194,
   "id": "6b1918ac",
   "metadata": {},
   "outputs": [
    {
     "data": {
      "text/plain": [
       "[('employees',), ('customers',), ('sqlite_sequence',), ('orders',)]"
      ]
     },
     "execution_count": 194,
     "metadata": {},
     "output_type": "execute_result"
    }
   ],
   "source": [
    "cursor.execute(\"SELECT name FROM sqlite_master WHERE type = 'table';\")\n",
    "\n",
    "cursor.fetchall()"
   ]
  },
  {
   "cell_type": "code",
   "execution_count": 195,
   "id": "323eccb3",
   "metadata": {},
   "outputs": [
    {
     "data": {
      "text/plain": [
       "[('employees',), ('customers',), ('sqlite_sequence',), ('orders',)]"
      ]
     },
     "execution_count": 195,
     "metadata": {},
     "output_type": "execute_result"
    }
   ],
   "source": [
    "cursor.execute(\"SELECT name FROM sqlite_master WHERE type = 'table';\")\n",
    "\n",
    "cursor.fetchall()"
   ]
  },
  {
   "cell_type": "code",
   "execution_count": 196,
   "id": "343cc75d",
   "metadata": {},
   "outputs": [
    {
     "data": {
      "text/plain": [
       "'Hello! How can I assist you today?'"
      ]
     },
     "execution_count": 196,
     "metadata": {},
     "output_type": "execute_result"
    }
   ],
   "source": [
    "llm.invoke(\"hello\").content"
   ]
  },
  {
   "cell_type": "code",
   "execution_count": 201,
   "id": "741a40f0",
   "metadata": {},
   "outputs": [],
   "source": [
    "from langchain_community.utilities import SQLDatabase  \n",
    "db = SQLDatabase.from_uri(\"sqlite:///employee.db\")    #This is inbuilt langchain class, used to refre sql db('employee.db), it contains many functions those are used to fetch required info from the DB."
   ]
  },
  {
   "cell_type": "code",
   "execution_count": 198,
   "id": "5cee712c",
   "metadata": {},
   "outputs": [
    {
     "name": "stdout",
     "output_type": "stream",
     "text": [
      "Query result from Employees table: \n",
      " [(1, 'Devendra', 'Sharma', 'devendra.sharma@abc.com', '2023-07-01', 52000.0), (2, 'Arjun', 'yadav', 'arjun.yadav@gmail.com', '2022-05-10', 62000.0), (3, 'john', 'vadra', 'john.vadra@jpg.com', '2021-10-15', 57000.0), (4, 'Robert', 'Smith', 'robert.smith@uio.com', '2020-02-01', 47000.0)]\n"
     ]
    }
   ],
   "source": [
    "query_result = db.run(\"SELECT * FROM employees ;\")\n",
    "print(\"Query result from Employees table: \\n\", query_result)"
   ]
  },
  {
   "cell_type": "code",
   "execution_count": 200,
   "id": "bf4826dd",
   "metadata": {},
   "outputs": [
    {
     "name": "stdout",
     "output_type": "stream",
     "text": [
      "Dialect: sqlite\n",
      "Usable tables: ['customers', 'employees', 'orders']\n"
     ]
    }
   ],
   "source": [
    "print(\"Dialect:\", db.dialect)  # 'dialect' refers to the specific flavor or variant of SQL implemented by a particular database management system (DBMS). each DBMS (like PostgreSQL, MySQL, SQLite, Oracle, Microsoft SQL Server, etc.) has its own extensions, quirks, and slight variations in syntax, data types, functions, and behavior. These variations are collectively referred to as the \"dialect\" of that DBMS. he dialect property tells you which database backend you're connected to and provides access to dialect-specific features or configurations.\n",
    "print(\"Usable tables:\", db.get_usable_table_names())"
   ]
  },
  {
   "cell_type": "code",
   "execution_count": 117,
   "id": "18a44664",
   "metadata": {},
   "outputs": [
    {
     "name": "stdout",
     "output_type": "stream",
     "text": [
      "Query result from Employees table: \n",
      " [(1, 'Devendra', 'Sharma', 'devendra.sharma@abc.com', '2023-07-01', 52000.0), (2, 'Arjun', 'yadav', 'arjun.yadav@gmail.com', '2022-05-10', 62000.0), (3, 'john', 'vadra', 'john.vadra@jpg.com', '2021-10-15', 57000.0), (4, 'Robert', 'Smith', 'robert.smith@uio.com', '2020-02-01', 47000.0)]\n"
     ]
    }
   ],
   "source": [
    "query_result = db.run(\"SELECT * FROM employees ;\")\n",
    "print(\"Query result from Employees table: \\n\", query_result)"
   ]
  },
  {
   "cell_type": "code",
   "execution_count": null,
   "id": "f472700e",
   "metadata": {},
   "outputs": [
    {
     "data": {
      "text/plain": [
       "[QuerySQLDatabaseTool(description=\"Input to this tool is a detailed and correct SQL query, output is a result from the database. If the query is not correct, an error message will be returned. If an error is returned, rewrite the query, check the query, and try again. If you encounter an issue with Unknown column 'xxxx' in 'field list', use sql_db_schema to query the correct table fields.\", db=<langchain_community.utilities.sql_database.SQLDatabase object at 0x1170487d0>),\n",
       " InfoSQLDatabaseTool(description='Input to this tool is a comma-separated list of tables, output is the schema and sample rows for those tables. Be sure that the tables actually exist by calling sql_db_list_tables first! Example Input: table1, table2, table3', db=<langchain_community.utilities.sql_database.SQLDatabase object at 0x1170487d0>),\n",
       " ListSQLDatabaseTool(db=<langchain_community.utilities.sql_database.SQLDatabase object at 0x1170487d0>),\n",
       " QuerySQLCheckerTool(description='Use this tool to double check if your query is correct before executing it. Always use this tool before executing a query with sql_db_query!', db=<langchain_community.utilities.sql_database.SQLDatabase object at 0x1170487d0>, llm=ChatOpenAI(client=<openai.resources.chat.completions.completions.Completions object at 0x116d9a990>, async_client=<openai.resources.chat.completions.completions.AsyncCompletions object at 0x116d99810>, root_client=<openai.OpenAI object at 0x116d9ae90>, root_async_client=<openai.AsyncOpenAI object at 0x116d9a0d0>, model_kwargs={}, openai_api_key=SecretStr('**********')), llm_chain=LLMChain(verbose=False, prompt=PromptTemplate(input_variables=['dialect', 'query'], input_types={}, partial_variables={}, template='\\n{query}\\nDouble check the {dialect} query above for common mistakes, including:\\n- Using NOT IN with NULL values\\n- Using UNION when UNION ALL should have been used\\n- Using BETWEEN for exclusive ranges\\n- Data type mismatch in predicates\\n- Properly quoting identifiers\\n- Using the correct number of arguments for functions\\n- Casting to the correct data type\\n- Using the proper columns for joins\\n\\nIf there are any of the above mistakes, rewrite the query. If there are no mistakes, just reproduce the original query.\\n\\nOutput the final SQL query only.\\n\\nSQL Query: '), llm=ChatOpenAI(client=<openai.resources.chat.completions.completions.Completions object at 0x116d9a990>, async_client=<openai.resources.chat.completions.completions.AsyncCompletions object at 0x116d99810>, root_client=<openai.OpenAI object at 0x116d9ae90>, root_async_client=<openai.AsyncOpenAI object at 0x116d9a0d0>, model_kwargs={}, openai_api_key=SecretStr('**********')), output_parser=StrOutputParser(), llm_kwargs={}))]"
      ]
     },
     "execution_count": 118,
     "metadata": {},
     "output_type": "execute_result"
    }
   ],
   "source": [
    "from langchain_community.agent_toolkits import SQLDatabaseToolkit     # This provides the 'tools' in SQL DB.\n",
    "toolkit=SQLDatabaseToolkit(db=db,llm=llm)\n",
    "tools=toolkit.get_tools()\n",
    "tools"
   ]
  },
  {
   "cell_type": "code",
   "execution_count": 119,
   "id": "92d26f09",
   "metadata": {},
   "outputs": [
    {
     "name": "stdout",
     "output_type": "stream",
     "text": [
      "sql_db_query\n",
      "sql_db_schema\n",
      "sql_db_list_tables\n",
      "sql_db_query_checker\n"
     ]
    }
   ],
   "source": [
    "for tool in tools:\n",
    "    print(tool.name)"
   ]
  },
  {
   "cell_type": "code",
   "execution_count": 120,
   "id": "3021364c",
   "metadata": {},
   "outputs": [
    {
     "data": {
      "text/plain": [
       "ListSQLDatabaseTool(db=<langchain_community.utilities.sql_database.SQLDatabase object at 0x1170487d0>)"
      ]
     },
     "execution_count": 120,
     "metadata": {},
     "output_type": "execute_result"
    }
   ],
   "source": [
    "list_tables_tool = next((tool for tool in tools if tool.name == \"sql_db_list_tables\"), None)\n",
    "list_tables_tool"
   ]
  },
  {
   "cell_type": "code",
   "execution_count": null,
   "id": "44e6938a",
   "metadata": {},
   "outputs": [
    {
     "data": {
      "text/plain": [
       "InfoSQLDatabaseTool(description='Input to this tool is a comma-separated list of tables, output is the schema and sample rows for those tables. Be sure that the tables actually exist by calling sql_db_list_tables first! Example Input: table1, table2, table3', db=<langchain_community.utilities.sql_database.SQLDatabase object at 0x1170487d0>)"
      ]
     },
     "execution_count": 121,
     "metadata": {},
     "output_type": "execute_result"
    }
   ],
   "source": [
    "get_schema_tool = next((tool for tool in tools if tool.name == \"sql_db_schema\"), None)\n",
    "get_schema_tool   # Used for getting entire info about the db "
   ]
  },
  {
   "cell_type": "code",
   "execution_count": 122,
   "id": "c7ff6ec6",
   "metadata": {},
   "outputs": [
    {
     "name": "stdout",
     "output_type": "stream",
     "text": [
      "customers, employees, orders\n"
     ]
    }
   ],
   "source": [
    "print(list_tables_tool.invoke(\"\"))"
   ]
  },
  {
   "cell_type": "code",
   "execution_count": 123,
   "id": "3651a405",
   "metadata": {},
   "outputs": [
    {
     "name": "stdout",
     "output_type": "stream",
     "text": [
      "\n",
      "CREATE TABLE employees (\n",
      "\temp_id INTEGER, \n",
      "\tfirst_name TEXT NOT NULL, \n",
      "\tlast_name TEXT NOT NULL, \n",
      "\temail TEXT NOT NULL, \n",
      "\thire_date TEXT NOT NULL, \n",
      "\tsalary REAL NOT NULL, \n",
      "\tPRIMARY KEY (emp_id), \n",
      "\tUNIQUE (email)\n",
      ")\n",
      "\n",
      "/*\n",
      "3 rows from employees table:\n",
      "emp_id\tfirst_name\tlast_name\temail\thire_date\tsalary\n",
      "1\tDevendra\tSharma\tdevendra.sharma@abc.com\t2023-07-01\t52000.0\n",
      "2\tArjun\tyadav\tarjun.yadav@gmail.com\t2022-05-10\t62000.0\n",
      "3\tjohn\tvadra\tjohn.vadra@jpg.com\t2021-10-15\t57000.0\n",
      "*/\n"
     ]
    }
   ],
   "source": [
    "print(get_schema_tool.invoke(\"employees\"))\n"
   ]
  },
  {
   "cell_type": "code",
   "execution_count": 202,
   "id": "43ab785b",
   "metadata": {},
   "outputs": [
    {
     "name": "stdout",
     "output_type": "stream",
     "text": [
      "[(1, 'Devendra', 'Sharma', 'devendra.sharma@abc.com', '2023-07-01', 52000.0), (2, 'Arjun', 'yadav', 'arjun.yadav@gmail.com', '2022-05-10', 62000.0), (3, 'john', 'vadra', 'john.vadra@jpg.com', '2021-10-15', 57000.0), (4, 'Robert', 'Smith', 'robert.smith@uio.com', '2020-02-01', 47000.0)]\n"
     ]
    }
   ],
   "source": [
    "from langchain_core.tools import tool\n",
    "@tool\n",
    "def db_query_tool(query: str) -> str:      # This custom tool is going to dot he same work which above done by \"query_result = db.run(\"SELECT * FROM employees #limit 10 ;\")\"\n",
    "    \"\"\"\n",
    "    Execute a SQL query against the database and return the result.\n",
    "    If the query is invalid or returns no result, an error message will be returned.\n",
    "    In case of an error, the user is advised to rewrite the query and try again.\n",
    "    \"\"\"\n",
    "    result = db.run_no_throw(query)\n",
    "    if not result:\n",
    "        return \"Error: Query failed. Please rewrite your query and try again.\"\n",
    "    return result\n",
    "print(db_query_tool.invoke(\"SELECT * FROM Employees LIMIT 10;\"))"
   ]
  },
  {
   "cell_type": "code",
   "execution_count": 125,
   "id": "3530e304",
   "metadata": {},
   "outputs": [],
   "source": [
    "class Database:\n",
    "    def run_no_throw(self, query):\n",
    "        try:\n",
    "            # Assume `self.connection` is a valid database connection\n",
    "            cursor = self.connection.cursor()\n",
    "            cursor.execute(query)\n",
    "            return cursor.fetchall()  # Or another method to retrieve results\n",
    "        except Exception as e:\n",
    "            print(f\"Error executing query: {e}\")\n",
    "            return None  # Fallback value"
   ]
  },
  {
   "cell_type": "code",
   "execution_count": null,
   "id": "bc63b228",
   "metadata": {},
   "outputs": [
    {
     "data": {
      "text/plain": [
       "AIMessage(content='', additional_kwargs={'tool_calls': [{'id': 'call_LSpbTLfQ8uAOh4M9KURzCnGS', 'function': {'arguments': '{\"query\":\"SELECT * FROM Employees LIMIT 5;\"}', 'name': 'db_query_tool'}, 'type': 'function'}], 'refusal': None}, response_metadata={'token_usage': {'completion_tokens': 22, 'prompt_tokens': 224, 'total_tokens': 246, 'completion_tokens_details': {'accepted_prediction_tokens': 0, 'audio_tokens': 0, 'reasoning_tokens': 0, 'rejected_prediction_tokens': 0}, 'prompt_tokens_details': {'audio_tokens': 0, 'cached_tokens': 0}}, 'model_name': 'gpt-3.5-turbo-0125', 'system_fingerprint': None, 'id': 'chatcmpl-BfEn2trj3LCf7XNXm3qo38Mop1Mkc', 'service_tier': 'default', 'finish_reason': 'tool_calls', 'logprobs': None}, id='run--79206899-0a51-49e9-8ee1-8e92b0b069ea-0', tool_calls=[{'name': 'db_query_tool', 'args': {'query': 'SELECT * FROM Employees LIMIT 5;'}, 'id': 'call_LSpbTLfQ8uAOh4M9KURzCnGS', 'type': 'tool_call'}], usage_metadata={'input_tokens': 224, 'output_tokens': 22, 'total_tokens': 246, 'input_token_details': {'audio': 0, 'cache_read': 0}, 'output_token_details': {'audio': 0, 'reasoning': 0}})"
      ]
     },
     "execution_count": 126,
     "metadata": {},
     "output_type": "execute_result"
    }
   ],
   "source": [
    "class SubmitFinalAnswer(BaseModel):\n",
    "    \"\"\"Submit the final answer to the user based on the query results.\"\"\"\n",
    "    final_answer: str = Field(..., description=\"The final answer to the user\")\n",
    "class State(TypedDict): #This state means --> message which is going to flow throught the langgraph workflow.\n",
    "    messages: Annotated[list[AnyMessage], add_messages]\n",
    "from langchain_core.prompts import ChatPromptTemplate\n",
    "query_check_system = \"\"\"You are a SQL expert with a strong attention to detail.\n",
    "Double check the SQLite query for common mistakes, including:\n",
    "- Using NOT IN with NULL values\n",
    "- Using UNION when UNION ALL should have been used\n",
    "- Using BETWEEN for exclusive ranges\n",
    "- Data type mismatch in predicates\n",
    "- Properly quoting identifiers\n",
    "- Using the correct number of arguments for functions\n",
    "- Casting to the correct data type\n",
    "- Using the proper columns for joins\n",
    "\n",
    "If there are any of the above mistakes, rewrite the query. If there are no mistakes, just reproduce the original query.\n",
    "\n",
    "You will call the appropriate tool to execute the query after running this check.\"\"\"\n",
    "\n",
    "query_check_prompt = ChatPromptTemplate.from_messages([(\"system\", query_check_system), (\"placeholder\", \"{messages}\")])\n",
    "\n",
    "query_check = query_check_prompt | llm.bind_tools([db_query_tool])\n",
    "\n",
    "query_check.invoke({\"messages\": [(\"user\", \"SELECT * FROM Employees LIMIT 5;\")]})"
   ]
  },
  {
   "cell_type": "code",
   "execution_count": 127,
   "id": "1f8ab0a4",
   "metadata": {},
   "outputs": [
    {
     "data": {
      "text/plain": [
       "AIMessage(content='', additional_kwargs={'tool_calls': [{'id': 'call_WfevxiquGVEVprgkvTSZtBgv', 'function': {'arguments': '{\"query\":\"SELECT * FROM Employees LIMIT 5;\"}', 'name': 'db_query_tool'}, 'type': 'function'}], 'refusal': None}, response_metadata={'token_usage': {'completion_tokens': 22, 'prompt_tokens': 224, 'total_tokens': 246, 'completion_tokens_details': {'accepted_prediction_tokens': 0, 'audio_tokens': 0, 'reasoning_tokens': 0, 'rejected_prediction_tokens': 0}, 'prompt_tokens_details': {'audio_tokens': 0, 'cached_tokens': 0}}, 'model_name': 'gpt-3.5-turbo-0125', 'system_fingerprint': None, 'id': 'chatcmpl-BfEn3KMniNMezULycaU1mv3nTZVlg', 'service_tier': 'default', 'finish_reason': 'tool_calls', 'logprobs': None}, id='run--e3a0cf6e-d695-477c-bef3-73218c132428-0', tool_calls=[{'name': 'db_query_tool', 'args': {'query': 'SELECT * FROM Employees LIMIT 5;'}, 'id': 'call_WfevxiquGVEVprgkvTSZtBgv', 'type': 'tool_call'}], usage_metadata={'input_tokens': 224, 'output_tokens': 22, 'total_tokens': 246, 'input_token_details': {'audio': 0, 'cache_read': 0}, 'output_token_details': {'audio': 0, 'reasoning': 0}})"
      ]
     },
     "execution_count": 127,
     "metadata": {},
     "output_type": "execute_result"
    }
   ],
   "source": [
    "query_check.invoke({\"messages\": [(\"user\", \"SELECT + FROM Employees LIMIT 5;\")]})"
   ]
  },
  {
   "cell_type": "code",
   "execution_count": 128,
   "id": "decf4844",
   "metadata": {},
   "outputs": [],
   "source": [
    "# Add a node for a model to generate a query based on the question and schema\n",
    "query_gen_system = \"\"\"You are a SQL expert with a strong attention to detail.\n",
    "\n",
    "Given an input question, output a syntactically correct SQLite query to run, then look at the results of the query and return the answer.\n",
    "\n",
    "DO NOT call any tool besides SubmitFinalAnswer to submit the final answer.\n",
    "\n",
    "When generating the query:\n",
    "\n",
    "Output the SQL query that answers the input question without a tool call.\n",
    "\n",
    "Unless the user specifies a specific number of examples they wish to obtain, always limit your query to at most 5 results.\n",
    "You can order the results by a relevant column to return the most interesting examples in the database.\n",
    "Never query for all the columns from a specific table, only ask for the relevant columns given the question.\n",
    "\n",
    "If you get an error while executing a query, rewrite the query and try again.\n",
    "\n",
    "If you get an empty result set, you should try to rewrite the query to get a non-empty result set.\n",
    "NEVER make stuff up if you don't have enough information to answer the query... just say you don't have enough information.\n",
    "\n",
    "If you have enough information to answer the input question, simply invoke the appropriate tool to submit the final answer to the user.\n",
    "\n",
    "DO NOT make any DML statements (INSERT, UPDATE, DELETE, DROP etc.) to the database. Do not return any sql query except answer.\"\"\"\n",
    "\n",
    "\n",
    "query_gen_prompt = ChatPromptTemplate.from_messages([(\"system\", query_gen_system), (\"placeholder\", \"{messages}\")])\n",
    "\n",
    "query_gen = query_gen_prompt | llm.bind_tools([SubmitFinalAnswer])"
   ]
  },
  {
   "cell_type": "code",
   "execution_count": null,
   "id": "f0ee9f7c",
   "metadata": {},
   "outputs": [],
   "source": []
  },
  {
   "cell_type": "code",
   "execution_count": 129,
   "id": "ed589b15",
   "metadata": {},
   "outputs": [],
   "source": [
    "from langgraph.prebuilt import ToolNode\n",
    "def first_tool_call(state:State)->dict[str,list[AIMessage]]:\n",
    "    return{\"messages\": [AIMessage(content=\"\",tool_calls=[{\"name\":\"sql_db_list_tables\",\"args\":{},\"id\":\"tool_abcd123\"}])]}\n",
    "def handle_tool_error(state:State) -> dict:\n",
    "    error = state.get(\"error\") \n",
    "    tool_calls = state[\"messages\"][-1].tool_calls\n",
    "    return {\n",
    "        \"messages\": [\n",
    "        ToolMessage(content=f\"Error: {repr(error)}\\n please fix your mistakes.\",tool_call_id=tc[\"id\"],)\n",
    "        for tc in tool_calls\n",
    "        ]\n",
    "    }\n",
    "def create_tool_node_with_fallback(tools: list) -> RunnableWithFallbacks[Any, dict]:\n",
    "    return ToolNode(tools).with_fallbacks([RunnableLambda(handle_tool_error)], exception_key=\"error\")\n",
    "def query_gen_node(state: State):\n",
    "    message = query_gen.invoke(state)\n",
    "\n",
    "    # Sometimes, the LLM will hallucinate and call the wrong tool. We need to catch this and return an error message.\n",
    "    tool_messages = []\n",
    "    if message.tool_calls:\n",
    "        for tc in message.tool_calls:\n",
    "            if tc[\"name\"] != \"SubmitFinalAnswer\":\n",
    "                tool_messages.append(\n",
    "                    ToolMessage(\n",
    "                        content=f\"Error: The wrong tool was called: {tc['name']}. Please fix your mistakes. Remember to only call SubmitFinalAnswer to submit the final answer. Generated queries should be outputted WITHOUT a tool call.\",\n",
    "                        tool_call_id=tc[\"id\"],\n",
    "                    )\n",
    "                )\n",
    "    else:\n",
    "        tool_messages = []\n",
    "    return {\"messages\": [message] + tool_messages}"
   ]
  },
  {
   "cell_type": "code",
   "execution_count": 130,
   "id": "81af52d8",
   "metadata": {},
   "outputs": [],
   "source": [
    "def should_continue(state: State) -> Literal[END, \"correct_query\", \"query_gen\"]:\n",
    "    messages = state[\"messages\"]\n",
    "    last_message = messages[-1]\n",
    "    if getattr(last_message, \"tool_calls\", None):\n",
    "        return END\n",
    "    if last_message.content.startswith(\"Error:\"):\n",
    "        return \"query_gen\"\n",
    "    else:\n",
    "        return \"correct_query\"\n"
   ]
  },
  {
   "cell_type": "code",
   "execution_count": 131,
   "id": "c255810c",
   "metadata": {},
   "outputs": [],
   "source": [
    "def model_check_query(state: State) -> dict[str, list[AIMessage]]:\n",
    "    \"\"\"\n",
    "    Use this tool to double-check if your query is correct before executing it.\n",
    "    \"\"\"\n",
    "    return {\"messages\": [query_check.invoke({\"messages\": [state[\"messages\"][-1]]})]}"
   ]
  },
  {
   "cell_type": "code",
   "execution_count": 132,
   "id": "df043768",
   "metadata": {},
   "outputs": [],
   "source": [
    "tools= []\n",
    "tool_node= ToolNode(tools)\n",
    "llm_with_tools= llm.bind_tools(tools= tools)"
   ]
  },
  {
   "cell_type": "code",
   "execution_count": 133,
   "id": "54144514",
   "metadata": {},
   "outputs": [],
   "source": [
    "workflow= StateGraph(State)"
   ]
  },
  {
   "cell_type": "code",
   "execution_count": 134,
   "id": "2827b857",
   "metadata": {},
   "outputs": [
    {
     "data": {
      "text/plain": [
       "<langgraph.graph.state.StateGraph at 0x117049450>"
      ]
     },
     "execution_count": 134,
     "metadata": {},
     "output_type": "execute_result"
    }
   ],
   "source": [
    "workflow.add_node(\"first_tool_call\",first_tool_call)\n",
    "workflow.add_node(\"list_tables_tool\", create_tool_node_with_fallback([list_tables_tool]))\n",
    "workflow.add_node(\"get_schema_tool\", create_tool_node_with_fallback([get_schema_tool]))\n",
    "model_get_schema = llm.bind_tools([get_schema_tool])\n",
    "workflow.add_node(\"model_get_schema\",lambda state: {\"messages\": [model_get_schema.invoke(state[\"messages\"])],},)\n",
    "workflow.add_node(\"query_gen\", query_gen_node)\n",
    "workflow.add_node(\"correct_query\", model_check_query)\n",
    "workflow.add_node(\"execute_query\", create_tool_node_with_fallback([db_query_tool]))"
   ]
  },
  {
   "cell_type": "code",
   "execution_count": 135,
   "id": "c1741427",
   "metadata": {},
   "outputs": [
    {
     "data": {
      "text/plain": [
       "<langgraph.graph.state.StateGraph at 0x117049450>"
      ]
     },
     "execution_count": 135,
     "metadata": {},
     "output_type": "execute_result"
    }
   ],
   "source": [
    "workflow.add_edge(START, \"first_tool_call\")\n",
    "workflow.add_edge(\"first_tool_call\", \"list_tables_tool\")\n",
    "workflow.add_edge(\"list_tables_tool\", \"model_get_schema\")\n",
    "workflow.add_edge(\"model_get_schema\", \"get_schema_tool\")\n",
    "workflow.add_edge(\"get_schema_tool\", \"query_gen\")\n",
    "workflow.add_conditional_edges(\"query_gen\",should_continue,)\n",
    "workflow.add_edge(\"correct_query\", \"execute_query\")\n",
    "workflow.add_edge(\"execute_query\", \"query_gen\")"
   ]
  },
  {
   "cell_type": "code",
   "execution_count": 136,
   "id": "cc6fd300",
   "metadata": {},
   "outputs": [],
   "source": [
    "app= workflow.compile()"
   ]
  },
  {
   "cell_type": "code",
   "execution_count": 137,
   "id": "31ab9583",
   "metadata": {},
   "outputs": [
    {
     "data": {
      "image/png": "[encoded data removed]",
      "text/plain": [
       "<IPython.core.display.Image object>"
      ]
     },
     "metadata": {},
     "output_type": "display_data"
    }
   ],
   "source": [
    "from IPython.display import Image, display\n",
    "from langchain_core.runnables.graph import MermaidDrawMethod\n",
    "\n",
    "display(\n",
    "    Image(\n",
    "        app.get_graph().draw_mermaid_png(\n",
    "            draw_method=MermaidDrawMethod.API,\n",
    "        )\n",
    "    )\n",
    ")"
   ]
  },
  {
   "cell_type": "code",
   "execution_count": 142,
   "id": "cf32672f",
   "metadata": {},
   "outputs": [
    {
     "data": {
      "text/plain": [
       "'john'"
      ]
     },
     "execution_count": 142,
     "metadata": {},
     "output_type": "execute_result"
    }
   ],
   "source": [
    "query={\"messages\": [(\"user\", \"Tell me name of the employee who's salary is more than 55000?\")]}\n",
    "response=app.invoke(query)\n",
    "response[\"messages\"][-1].tool_calls[0][\"args\"][\"final_answer\"]"
   ]
  },
  {
   "cell_type": "code",
   "execution_count": 139,
   "id": "443b92d2",
   "metadata": {},
   "outputs": [
    {
     "data": {
      "text/plain": [
       "'The orders table has 3 rows with columns order_id, customer_id, order_date, and amount.'"
      ]
     },
     "execution_count": 139,
     "metadata": {},
     "output_type": "execute_result"
    }
   ],
   "source": [
    "query={\"messages\": [(\"user\", \"Tell me about all the orders\")]}\n",
    "response = app.invoke(query)\n",
    "response[\"messages\"][-1].tool_calls[0][\"args\"][\"final_answer\"]"
   ]
  },
  {
   "cell_type": "code",
   "execution_count": 141,
   "id": "9458af33",
   "metadata": {},
   "outputs": [
    {
     "data": {
      "text/plain": [
       "'1234567891'"
      ]
     },
     "execution_count": 141,
     "metadata": {},
     "output_type": "execute_result"
    }
   ],
   "source": [
    "query={\"messages\": [(\"user\", \"Show the phone numbers of customers whose last name is 'yadav'?\")]}\n",
    "response = app.invoke(query)\n",
    "response[\"messages\"][-1].tool_calls[0][\"args\"][\"final_answer\"]"
   ]
  },
  {
   "cell_type": "code",
   "execution_count": null,
   "id": "a7e2509e",
   "metadata": {},
   "outputs": [],
   "source": []
  },
  {
   "cell_type": "code",
   "execution_count": null,
   "id": "3c5ec606",
   "metadata": {},
   "outputs": [],
   "source": []
  },
  {
   "cell_type": "code",
   "execution_count": null,
   "id": "4742b0e2",
   "metadata": {},
   "outputs": [],
   "source": []
  },
  {
   "cell_type": "code",
   "execution_count": null,
   "id": "6b8abd9d",
   "metadata": {},
   "outputs": [],
   "source": []
  }
 ],
 "metadata": {
  "kernelspec": {
   "display_name": ".venv",
   "language": "python",
   "name": "python3"
  },
  "language_info": {
   "codemirror_mode": {
    "name": "ipython",
    "version": 3
   },
   "file_extension": ".py",
   "mimetype": "text/x-python",
   "name": "python",
   "nbconvert_exporter": "python",
   "pygments_lexer": "ipython3",
   "version": "3.13.3"
  }
 },
 "nbformat": 4,
 "nbformat_minor": 5
}
