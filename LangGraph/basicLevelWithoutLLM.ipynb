{
 "cells": [
  {
   "cell_type": "code",
   "execution_count": 15,
   "id": "1e703ac4",
   "metadata": {},
   "outputs": [],
   "source": [
    "# ! pip install langgraph\n",
    "# ! pip install Ipython"
   ]
  },
  {
   "cell_type": "code",
   "execution_count": 53,
   "id": "b0c14bdf",
   "metadata": {},
   "outputs": [],
   "source": [
    "from langgraph.graph import Graph, START, END     # Graph is used for Direct Acyclic Graph(DAG), and for Direct Cyclic Graph(DCG) we use StateGraph., START-->start node, and END--> end node.\n",
    "from IPython.display import Image, display"
   ]
  },
  {
   "cell_type": "code",
   "execution_count": 82,
   "id": "100b5ed8",
   "metadata": {},
   "outputs": [],
   "source": [
    "def node1(state):\n",
    "    a= state['a']\n",
    "    b= state['b']\n",
    "    return a * b\n"
   ]
  },
  {
   "cell_type": "code",
   "execution_count": 83,
   "id": "4add23c6",
   "metadata": {},
   "outputs": [],
   "source": [
    "def node2(input):\n",
    "    return f'sum of {input} and 23 is {input + 23}.'"
   ]
  },
  {
   "cell_type": "code",
   "execution_count": 84,
   "id": "d407a2ef",
   "metadata": {},
   "outputs": [],
   "source": [
    "graph= Graph()    "
   ]
  },
  {
   "cell_type": "code",
   "execution_count": 85,
   "id": "c83821bf",
   "metadata": {},
   "outputs": [
    {
     "data": {
      "text/plain": [
       "<langgraph.graph.graph.Graph at 0x10e5147d0>"
      ]
     },
     "execution_count": 85,
     "metadata": {},
     "output_type": "execute_result"
    }
   ],
   "source": [
    "graph.add_node('node1', node1)\n",
    "graph.add_node('node2', node2)\n",
    "graph.add_edge(START, 'node1')\n",
    "graph.add_edge('node1', 'node2')   # this is creating an edge from node1 to node2.\n",
    "graph.add_edge('node2', END)\n",
    "# graph.set_entry_point(\"node1\")\n",
    "# graph.set_finish_point(\"node2\")\n"
   ]
  },
  {
   "cell_type": "code",
   "execution_count": 86,
   "id": "3b7a17fd",
   "metadata": {},
   "outputs": [],
   "source": [
    "graph= graph.compile()"
   ]
  },
  {
   "cell_type": "code",
   "execution_count": 87,
   "id": "0478d937",
   "metadata": {},
   "outputs": [
    {
     "data": {
      "image/png": "[encoded data removed]",
      "text/plain": [
       "<IPython.core.display.Image object>"
      ]
     },
     "metadata": {},
     "output_type": "display_data"
    }
   ],
   "source": [
    "try:\n",
    "    display(Image(graph.get_graph().draw_mermaid_png()))\n",
    "except Exception as e:\n",
    "    print(e)"
   ]
  },
  {
   "cell_type": "code",
   "execution_count": 88,
   "id": "64187c7e",
   "metadata": {},
   "outputs": [
    {
     "data": {
      "text/plain": [
       "'sum of 375 and 23 is 398.'"
      ]
     },
     "execution_count": 88,
     "metadata": {},
     "output_type": "execute_result"
    }
   ],
   "source": [
    "graph.invoke({'a':25 ,'b':15})"
   ]
  },
  {
   "cell_type": "code",
   "execution_count": null,
   "id": "cef91e9a",
   "metadata": {},
   "outputs": [],
   "source": []
  },
  {
   "cell_type": "code",
   "execution_count": null,
   "id": "4f3299ee",
   "metadata": {},
   "outputs": [],
   "source": []
  }
 ],
 "metadata": {
  "kernelspec": {
   "display_name": ".venv",
   "language": "python",
   "name": "python3"
  },
  "language_info": {
   "codemirror_mode": {
    "name": "ipython",
    "version": 3
   },
   "file_extension": ".py",
   "mimetype": "text/x-python",
   "name": "python",
   "nbconvert_exporter": "python",
   "pygments_lexer": "ipython3",
   "version": "3.13.3"
  }
 },
 "nbformat": 4,
 "nbformat_minor": 5
}
