{
 "cells": [
  {
   "cell_type": "markdown",
   "id": "d3433f44",
   "metadata": {},
   "source": [
    "### Comparision between LLM & RAG outputs using LangGraph"
   ]
  },
  {
   "cell_type": "code",
   "execution_count": 37,
   "id": "a69c140e",
   "metadata": {},
   "outputs": [],
   "source": [
    "from langchain_community.document_loaders import TextLoader, DirectoryLoader\n",
    "from langchain.text_splitter import RecursiveCharacterTextSplitter\n",
    "from langchain_community.vectorstores import Chroma\n",
    "from langchain_core.output_parsers import StrOutputParser\n",
    "from langchain_core.prompts import ChatPromptTemplate\n",
    "from langchain_core.runnables import RunnablePassthrough\n",
    "from langchain.chains import RetrievalQA\n",
    "from langchain.embeddings import HuggingFaceBgeEmbeddings\n",
    "from langgraph.graph import Graph, StateGraph, START, END\n",
    "from IPython.display import Image, display\n",
    "from langchain_openai import ChatOpenAI\n",
    "from dotenv import load_dotenv \n",
    "from typing import TypedDict, Annotated, Sequence\n",
    "import operator\n",
    "from langchain_core.messages import BaseMessage\n",
    "from langchain.output_parsers import PydanticOutputParser\n",
    "from pydantic import BaseModel , Field\n",
    "from langchain.prompts import PromptTemplate\n",
    "\n",
    "load_dotenv()\n",
    "\n",
    "loader = DirectoryLoader('./', glob=\"./*.txt\", loader_cls=TextLoader)\n",
    "docs = loader.load()\n",
    "\n",
    "\n",
    "text_splitter = RecursiveCharacterTextSplitter(\n",
    "    chunk_size=400,\n",
    "    chunk_overlap=40,\n",
    "    length_function=len\n",
    ")\n",
    "new_docs = text_splitter.split_documents(documents=docs)\n",
    "doc_strings = [doc.page_content for doc in new_docs]"
   ]
  },
  {
   "cell_type": "code",
   "execution_count": 15,
   "id": "28089ea7",
   "metadata": {},
   "outputs": [],
   "source": [
    "# ! pip install sentence-transformers\n",
    "# ! pip install langchain_huggingface\n",
    "# ! pip install chromadb"
   ]
  },
  {
   "cell_type": "code",
   "execution_count": null,
   "id": "667aed73",
   "metadata": {},
   "outputs": [],
   "source": [
    "model_name = \"BAAI/bge-small-en-v1.5\"\n",
    "model_kwargs = {'device': 'cpu'}\n",
    "encode_kwargs = {'normalize_embeddings': True} # set True to compute cosine similarity\n",
    "embeddings = HuggingFaceBgeEmbeddings(\n",
    "    model_name=model_name,\n",
    "    model_kwargs=model_kwargs,\n",
    "    encode_kwargs=encode_kwargs,\n",
    ")"
   ]
  },
  {
   "cell_type": "code",
   "execution_count": 17,
   "id": "c0887171",
   "metadata": {},
   "outputs": [],
   "source": [
    "from langchain_huggingface import HuggingFaceEmbeddings\n",
    "embeddings=HuggingFaceEmbeddings(model_name=\"all-MiniLM-L6-v2\")"
   ]
  },
  {
   "cell_type": "code",
   "execution_count": 29,
   "id": "e6d311d2",
   "metadata": {},
   "outputs": [],
   "source": [
    "db = Chroma.from_documents(new_docs, embeddings)\n",
    "retriever = db.as_retriever(search_kwargs={\"k\": 4})"
   ]
  },
  {
   "cell_type": "code",
   "execution_count": 19,
   "id": "62473a08",
   "metadata": {},
   "outputs": [
    {
     "name": "stderr",
     "output_type": "stream",
     "text": [
      "/var/folders/jm/nxthdk892t3b94442_lcxbfm0000gn/T/ipykernel_22556/2266497744.py:2: LangChainDeprecationWarning: The method `BaseRetriever.get_relevant_documents` was deprecated in langchain-core 0.1.46 and will be removed in 1.0. Use :meth:`~invoke` instead.\n",
      "  docs = retriever.get_relevant_documents(query)\n"
     ]
    },
    {
     "name": "stdout",
     "output_type": "stream",
     "text": [
      "[Document(metadata={'source': 'llama3.txt'}, page_content='* We’re dedicated to developing Llama 3 in a responsible way, and we’re offering various resources to help others use it responsibly as well. This includes introducing new trust and safety tools with Llama Guard 2, Code Shield, and CyberSec Eval 2.'), Document(metadata={'source': 'llama3.txt'}, page_content='With Llama 3, we set out to build the best open models that are on par with the best proprietary models available today. We wanted to address developer feedback to increase the overall helpfulness of Llama 3 and are doing so while continuing to play a leading role on responsible use and deployment of LLMs. We are embracing the open source ethos of releasing early and often to enable the community'), Document(metadata={'source': 'llama3.txt'}, page_content='Our goals for Llama 3'), Document(metadata={'source': 'llama3.txt'}, page_content='* In the coming months, we expect to introduce new capabilities, longer context windows, additional model sizes, and enhanced performance, and we’ll share the Llama 3 research paper.')]\n"
     ]
    }
   ],
   "source": [
    "query = \"Tell me about llama3?\"\n",
    "docs = retriever.get_relevant_documents(query)\n",
    "print(docs)"
   ]
  },
  {
   "cell_type": "code",
   "execution_count": null,
   "id": "95020001",
   "metadata": {},
   "outputs": [],
   "source": [
    "# assign AgentState as an empty dict\n",
    "AgentState = {}\n",
    "\n",
    "# messages key will be assigned as an empty array. We will append new messages as we pass along nodes. \n",
    "AgentState[\"messages\"] = []"
   ]
  },
  {
   "cell_type": "code",
   "execution_count": null,
   "id": "b5d4f6cf",
   "metadata": {},
   "outputs": [],
   "source": [
    "AgentState"
   ]
  },
  {
   "cell_type": "code",
   "execution_count": 21,
   "id": "fcf2a4ce",
   "metadata": {},
   "outputs": [],
   "source": [
    "llm= ChatOpenAI()"
   ]
  },
  {
   "cell_type": "code",
   "execution_count": 22,
   "id": "547883ef",
   "metadata": {},
   "outputs": [],
   "source": [
    "def function_1(state):\n",
    "    messages = state['messages']\n",
    "    question = messages[-1]   \n",
    "    \n",
    "    complete_query = \"Your task is to provide only the topic based on the user query. \\\n",
    "        Only output the topic among: [Japan , Sports]. Don't include reasoning. Following is the user query: \" + question\n",
    "    response = llm.invoke(complete_query)\n",
    "    state['messages'].append(response.content) \n",
    "    return state\n",
    "\n",
    "def function_2(state):\n",
    "    messages = state['messages']\n",
    "    question = messages[0] \n",
    "\n",
    "    template = \"\"\"Answer the question based only on the following context:\n",
    "    {context}\n",
    "\n",
    "    Question: {question}\n",
    "    \"\"\"\n",
    "    prompt = ChatPromptTemplate.from_template(template)\n",
    "\n",
    "    retrieval_chain = (\n",
    "        {\"context\": retriever, \"question\": RunnablePassthrough()}\n",
    "        | prompt\n",
    "        | llm\n",
    "        | StrOutputParser()\n",
    "        )\n",
    "    result = retrieval_chain.invoke(question)\n",
    "    return result"
   ]
  },
  {
   "cell_type": "code",
   "execution_count": 31,
   "id": "a082b410",
   "metadata": {},
   "outputs": [],
   "source": [
    "graph = Graph()\n",
    "\n",
    "graph.add_node(\"Agent\", function_1)\n",
    "graph.add_node(\"RAGtool\", function_2)\n",
    "graph.add_edge(START, 'Agent')\n",
    "graph.add_edge('Agent', 'RAGtool')\n",
    "graph.add_edge('RAGtool', END)\n",
    "\n",
    "\n",
    "graph = graph.compile()"
   ]
  },
  {
   "cell_type": "code",
   "execution_count": 32,
   "id": "831baf21",
   "metadata": {},
   "outputs": [
    {
     "data": {
      "image/png": "[encoded data removed]",
      "text/plain": [
       "<IPython.core.display.Image object>"
      ]
     },
     "metadata": {},
     "output_type": "display_data"
    }
   ],
   "source": [
    "try:\n",
    "    display(Image(graph.get_graph().draw_mermaid_png(max_retries=2, retry_delay=2.0)))\n",
    "except Exception as e:\n",
    "    print(e)"
   ]
  },
  {
   "cell_type": "code",
   "execution_count": 33,
   "id": "71514692",
   "metadata": {},
   "outputs": [
    {
     "data": {
      "text/plain": [
       "'The Llama 3 model aims to be one of the best open models available, comparable to the best proprietary models currently on the market. The developers are actively seeking feedback to improve the overall usefulness of the model. They are also focused on responsible use and deployment of LLMs, while embracing the open source ethos of releasing updates frequently to benefit the community. In the near future, new capabilities, longer context windows, additional model sizes, enhanced performance, and a research paper on Llama 3 are expected to be introduced.'"
      ]
     },
     "execution_count": 33,
     "metadata": {},
     "output_type": "execute_result"
    }
   ],
   "source": [
    "inputs = {\"messages\": [\"Tell me about llama3 model\"]}\n",
    "graph.invoke(inputs)"
   ]
  },
  {
   "cell_type": "code",
   "execution_count": 34,
   "id": "f3e1859c",
   "metadata": {},
   "outputs": [
    {
     "data": {
      "text/plain": [
       "\"1. Llama 3 is being developed in a responsible way.\\n2. Various resources are being offered to help others use Llama 3 responsibly, including new trust and safety tools such as Llama Guard 2, Code Shield, and CyberSec Eval 2.\\n3. The document discussing Llama 3's goals mentions the dedication to responsible development and the provision of resources for responsible use twice.\""
      ]
     },
     "execution_count": 34,
     "metadata": {},
     "output_type": "execute_result"
    }
   ],
   "source": [
    "inputs = {\"messages\": [\"tell me 3 property of llama3?\"]}\n",
    "graph.invoke(inputs)"
   ]
  },
  {
   "cell_type": "code",
   "execution_count": 35,
   "id": "d775f7bb",
   "metadata": {},
   "outputs": [
    {
     "name": "stdout",
     "output_type": "stream",
     "text": [
      "Output from node 'Agent':\n",
      "---\n",
      "{'messages': ['tell me 3 property of llama3?', 'Japan', 'Japan']}\n",
      "\n",
      "---\n",
      "\n",
      "Output from node 'RAGtool':\n",
      "---\n",
      "1. Llama 3 is being developed in a responsible way.\n",
      "2. Llama 3 offers various trust and safety tools such as Llama Guard 2, Code Shield, and CyberSec Eval 2.\n",
      "3. Llama 3 is intended to help others use it responsibly.\n",
      "\n",
      "---\n",
      "\n"
     ]
    }
   ],
   "source": [
    "for output in graph.stream(inputs):\n",
    "    # stream() yields dictionaries with output keyed by node name\n",
    "    for key, value in output.items():\n",
    "        print(f\"Output from node '{key}':\")\n",
    "        print(\"---\")\n",
    "        print(value)\n",
    "    print(\"\\n---\\n\")"
   ]
  },
  {
   "cell_type": "code",
   "execution_count": 38,
   "id": "dcd8ec06",
   "metadata": {},
   "outputs": [],
   "source": [
    "class AgentState(TypedDict):\n",
    "    messages: Annotated[Sequence[BaseMessage], operator.add]"
   ]
  },
  {
   "cell_type": "code",
   "execution_count": 39,
   "id": "ab2d7b5f",
   "metadata": {},
   "outputs": [],
   "source": [
    "class TopicSelectionParser(BaseModel):\n",
    "    Topic: str = Field(description='Selected Topic')\n",
    "    #Reasoning: str = Field(description='Reasoning behind topic selection')\n",
    "\n",
    "parser = PydanticOutputParser(pydantic_object=TopicSelectionParser)\n",
    " "
   ]
  },
  {
   "cell_type": "code",
   "execution_count": 40,
   "id": "ca17ca57",
   "metadata": {},
   "outputs": [],
   "source": [
    "def function_1(state):\n",
    "    print('-> Calling Agent ->')\n",
    "    messages = state['messages']\n",
    "    question = messages[-1]   ## Fetching the user question\n",
    "    \n",
    "    templete = \"\"\" Your task is to provide only the topic based on the user query. \n",
    "        Only output the topic among: [Japan , Sports , Not Related]. Don't include reasoning. Following is the user query:  {question}\n",
    "        {format_instructions} \"\"\"\n",
    "    prompt = PromptTemplate(template=templete,\n",
    "                                    input_variables=[question],\n",
    "                                    partial_variables={\n",
    "                                        \"format_instructions\" : parser.get_format_instructions()                                    }\n",
    "                                    )\n",
    "    chain = prompt | llm | parser\n",
    "\n",
    "    response = chain.invoke({\"question\":question,\"format_instructions\" : parser.get_format_instructions() })\n",
    "\n",
    "    print(response)\n",
    "\n",
    "    return {\"messages\": [response.Topic]}\n",
    "\n",
    "def function_2(state):\n",
    "    print('-> Calling RAG ->')\n",
    "    messages = state['messages']\n",
    "    question = messages[0] ## Fetching the user question\n",
    "\n",
    "    template = \"\"\"Answer the question based only on the following context:\n",
    "    {context}\n",
    "\n",
    "    Question: {question}\n",
    "    \"\"\"\n",
    "    prompt = ChatPromptTemplate.from_template(template)\n",
    "\n",
    "    retrieval_chain = (\n",
    "        {\"context\": retriever, \"question\": RunnablePassthrough()}\n",
    "        | prompt\n",
    "        | llm\n",
    "        | StrOutputParser()\n",
    "        )\n",
    "    result = retrieval_chain.invoke(question)\n",
    "    return  {\"messages\": [result]}\n",
    "\n",
    "def function_3(state):\n",
    "    print('-> Calling LLM ->')\n",
    "\n",
    "    messages = state['messages']\n",
    "    question = messages[0] ## Fetching the user question\n",
    "\n",
    "    # Normal LLM call\n",
    "    complete_query = \"Anwer the follow question with you knowledge of the real world. Following is the user question: \" + question\n",
    "    response = llm.invoke(complete_query)\n",
    "    return {\"messages\": [response.content]}\n",
    "\n",
    "\n",
    "def router(state):\n",
    "    print('-> Router ->')\n",
    "    \n",
    "    messages = state[\"messages\"]\n",
    "    last_message = messages[-1]\n",
    "    print(last_message)\n",
    "    if 'Japan' in last_message or 'Sports' in last_message:\n",
    "        return 'RAG Call'\n",
    "    else:\n",
    "        return 'LLM Call'"
   ]
  },
  {
   "cell_type": "code",
   "execution_count": 41,
   "id": "2c5a3ee6",
   "metadata": {},
   "outputs": [
    {
     "data": {
      "text/plain": [
       "<langgraph.graph.state.StateGraph at 0x37f9a2cf0>"
      ]
     },
     "execution_count": 41,
     "metadata": {},
     "output_type": "execute_result"
    }
   ],
   "source": [
    "graph = StateGraph(AgentState) ### StateGraph with AgentState\n",
    "\n",
    "graph.add_node(\"agent\", function_1)\n",
    "graph.add_node(\"RAG\", function_2)\n",
    "graph.add_node(\"LLM\", function_3)\n",
    "\n",
    "graph.set_entry_point(\"agent\")"
   ]
  },
  {
   "cell_type": "code",
   "execution_count": 42,
   "id": "7d41fb31",
   "metadata": {},
   "outputs": [
    {
     "data": {
      "text/plain": [
       "<langgraph.graph.state.StateGraph at 0x37f9a2cf0>"
      ]
     },
     "execution_count": 42,
     "metadata": {},
     "output_type": "execute_result"
    }
   ],
   "source": [
    "# conditional edges are controlled by our router\n",
    "graph.add_conditional_edges(\n",
    "    \"agent\",  # where in graph to start\n",
    "    router,  # function to determine which node is called\n",
    "    {\n",
    "        'RAG Call': \"RAG\",\n",
    "        'LLM Call': \"LLM\",\n",
    "    }\n",
    ")"
   ]
  },
  {
   "cell_type": "code",
   "execution_count": 43,
   "id": "3548bfea",
   "metadata": {},
   "outputs": [],
   "source": [
    "graph.add_edge(\"RAG\", END)\n",
    "graph.add_edge(\"LLM\", END)\n",
    "\n",
    "app = graph.compile()"
   ]
  },
  {
   "cell_type": "code",
   "execution_count": 44,
   "id": "f8d6d123",
   "metadata": {},
   "outputs": [
    {
     "data": {
      "image/png": "[encoded data removed]",
      "text/plain": [
       "<IPython.core.display.Image object>"
      ]
     },
     "metadata": {},
     "output_type": "display_data"
    }
   ],
   "source": [
    "try:\n",
    "    display(Image(app.get_graph().draw_mermaid_png(max_retries=2, retry_delay=2.0)))\n",
    "except Exception as e:\n",
    "    print(e)"
   ]
  },
  {
   "cell_type": "code",
   "execution_count": 45,
   "id": "bb62cb57",
   "metadata": {},
   "outputs": [
    {
     "name": "stdout",
     "output_type": "stream",
     "text": [
      "-> Calling Agent ->\n",
      "Topic='Japan'\n",
      "-> Router ->\n",
      "Japan\n",
      "-> Calling RAG ->\n"
     ]
    }
   ],
   "source": [
    "inputs = {\"messages\": [\"Tell me about Japan's Industrial Growth\"]}\n",
    "out = app.invoke(inputs)"
   ]
  },
  {
   "cell_type": "code",
   "execution_count": 46,
   "id": "b447371f",
   "metadata": {},
   "outputs": [
    {
     "data": {
      "text/plain": [
       "{'messages': [\"Tell me about Japan's Industrial Growth\",\n",
       "  'Japan',\n",
       "  \"I'm sorry, but based on the given context, there is no information provided about Japan's Industrial Growth.\"]}"
      ]
     },
     "execution_count": 46,
     "metadata": {},
     "output_type": "execute_result"
    }
   ],
   "source": [
    "out"
   ]
  },
  {
   "cell_type": "code",
   "execution_count": 47,
   "id": "b681864b",
   "metadata": {},
   "outputs": [],
   "source": [
    "input= {\"messages\": [\"Tell me about USA first president?\"]}"
   ]
  },
  {
   "cell_type": "code",
   "execution_count": 48,
   "id": "bd958b55",
   "metadata": {},
   "outputs": [
    {
     "name": "stdout",
     "output_type": "stream",
     "text": [
      "-> Calling Agent ->\n",
      "Topic='Not Related'\n",
      "-> Router ->\n",
      "Not Related\n",
      "-> Calling LLM ->\n"
     ]
    }
   ],
   "source": [
    "out= app.invoke(input)"
   ]
  },
  {
   "cell_type": "code",
   "execution_count": 49,
   "id": "1d27c09d",
   "metadata": {},
   "outputs": [
    {
     "data": {
      "text/plain": [
       "{'messages': ['Tell me about USA first president?',\n",
       "  'Not Related',\n",
       "  'The first President of the United States was George Washington. He served two terms as President from 1789 to 1797. Washington was a key figure in the American Revolution and is often referred to as the \"Father of His Country\" for his leadership during that time. He played a crucial role in the founding of the United States and is widely regarded as one of the greatest Presidents in American history.']}"
      ]
     },
     "execution_count": 49,
     "metadata": {},
     "output_type": "execute_result"
    }
   ],
   "source": [
    "out"
   ]
  },
  {
   "cell_type": "code",
   "execution_count": null,
   "id": "09b81af3",
   "metadata": {},
   "outputs": [],
   "source": []
  }
 ],
 "metadata": {
  "kernelspec": {
   "display_name": ".venv",
   "language": "python",
   "name": "python3"
  },
  "language_info": {
   "codemirror_mode": {
    "name": "ipython",
    "version": 3
   },
   "file_extension": ".py",
   "mimetype": "text/x-python",
   "name": "python",
   "nbconvert_exporter": "python",
   "pygments_lexer": "ipython3",
   "version": "3.13.3"
  }
 },
 "nbformat": 4,
 "nbformat_minor": 5
}
