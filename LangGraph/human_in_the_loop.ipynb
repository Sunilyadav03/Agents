{
 "cells": [
  {
   "cell_type": "code",
   "execution_count": 14,
   "id": "7cd8ee45",
   "metadata": {},
   "outputs": [],
   "source": [
    "# ! pip install langchain"
   ]
  },
  {
   "cell_type": "code",
   "execution_count": 56,
   "id": "53bad262",
   "metadata": {},
   "outputs": [],
   "source": [
    "from typing import Annotated\n",
    "import operator,json\n",
    "from langchain_openai import ChatOpenAI\n",
    "from typing import TypedDict, Annotated, Sequence\n",
    "from typing_extensions import TypedDict\n",
    "from langchain_core.messages import BaseMessage\n",
    "from langgraph.checkpoint.memory import MemorySaver\n",
    "from langgraph.graph import StateGraph,END,START\n",
    "from langgraph.graph.message import add_messages\n",
    "from langgraph.prebuilt import ToolNode, tools_condition\n",
    "from langchain_core.tools import tool\n",
    "from langchain_community.tools.tavily_search import TavilySearchResults\n",
    "from langchain_core.messages import AIMessage, ToolMessage\n",
    "     "
   ]
  },
  {
   "cell_type": "code",
   "execution_count": 2,
   "id": "40dedea6",
   "metadata": {},
   "outputs": [],
   "source": [
    "llm= ChatOpenAI()"
   ]
  },
  {
   "cell_type": "code",
   "execution_count": 3,
   "id": "e530d9bb",
   "metadata": {},
   "outputs": [],
   "source": [
    "@tool\n",
    "def multiply(n1:int, n2:int)->int:\n",
    "    \"\"\"multiply two number\"\"\"\n",
    "    return n1 * n2"
   ]
  },
  {
   "cell_type": "code",
   "execution_count": 4,
   "id": "3c2331e1",
   "metadata": {},
   "outputs": [
    {
     "name": "stderr",
     "output_type": "stream",
     "text": [
      "/var/folders/jm/nxthdk892t3b94442_lcxbfm0000gn/T/ipykernel_46717/3360489142.py:1: LangChainDeprecationWarning: The method `BaseTool.__call__` was deprecated in langchain-core 0.1.47 and will be removed in 1.0. Use :meth:`~invoke` instead.\n",
      "  multiply({\"n1\":24,\"n2\":364})\n"
     ]
    },
    {
     "data": {
      "text/plain": [
       "8736"
      ]
     },
     "execution_count": 4,
     "metadata": {},
     "output_type": "execute_result"
    }
   ],
   "source": [
    "multiply({\"n1\":24,\"n2\":364})"
   ]
  },
  {
   "cell_type": "code",
   "execution_count": 5,
   "id": "deb39795",
   "metadata": {},
   "outputs": [
    {
     "data": {
      "text/plain": [
       "8736"
      ]
     },
     "execution_count": 5,
     "metadata": {},
     "output_type": "execute_result"
    }
   ],
   "source": [
    "multiply.invoke({\"n1\":24,\"n2\":364})"
   ]
  },
  {
   "cell_type": "code",
   "execution_count": 6,
   "id": "52c00b17",
   "metadata": {},
   "outputs": [],
   "source": [
    "@tool\n",
    "def search(query:str):\n",
    "    \"\"\"perform the web search on the user query\"\"\"\n",
    "    tavily=TavilySearchResults()\n",
    "    result=tavily.invoke(query)\n",
    "    return result\n",
    "     "
   ]
  },
  {
   "cell_type": "code",
   "execution_count": 7,
   "id": "9b1fc4b3",
   "metadata": {},
   "outputs": [],
   "source": [
    "tools= [multiply, search]\n",
    "tool_node= ToolNode(tools= tools)\n",
    "llm_with_tools= llm.bind_tools(tools)\n"
   ]
  },
  {
   "cell_type": "code",
   "execution_count": 8,
   "id": "10b5976e",
   "metadata": {},
   "outputs": [],
   "source": [
    "tool_mapping= {\n",
    "    tool.name: tool for tool in tools\n",
    "    }"
   ]
  },
  {
   "cell_type": "code",
   "execution_count": 9,
   "id": "67c6f279",
   "metadata": {},
   "outputs": [
    {
     "data": {
      "text/plain": [
       "{'multiply': StructuredTool(name='multiply', description='multiply two number', args_schema=<class 'langchain_core.utils.pydantic.multiply'>, func=<function multiply at 0x112415c60>),\n",
       " 'search': StructuredTool(name='search', description='perform the web search on the user query', args_schema=<class 'langchain_core.utils.pydantic.search'>, func=<function search at 0x11244d760>)}"
      ]
     },
     "execution_count": 9,
     "metadata": {},
     "output_type": "execute_result"
    }
   ],
   "source": [
    "tool_mapping"
   ]
  },
  {
   "cell_type": "code",
   "execution_count": 10,
   "id": "02996aa2",
   "metadata": {},
   "outputs": [],
   "source": [
    "result= llm_with_tools.invoke(\"What is the reason behind Hamas-Israel fight?\")"
   ]
  },
  {
   "cell_type": "code",
   "execution_count": 11,
   "id": "54f043cb",
   "metadata": {},
   "outputs": [
    {
     "data": {
      "text/plain": [
       "AIMessage(content='', additional_kwargs={'tool_calls': [{'id': 'call_G1dTbacfsIVGWvSnkOSvJbrg', 'function': {'arguments': '{\"query\":\"reason behind Hamas-Israel conflict\"}', 'name': 'search'}, 'type': 'function'}], 'refusal': None}, response_metadata={'token_usage': {'completion_tokens': 17, 'prompt_tokens': 79, 'total_tokens': 96, 'completion_tokens_details': {'accepted_prediction_tokens': 0, 'audio_tokens': 0, 'reasoning_tokens': 0, 'rejected_prediction_tokens': 0}, 'prompt_tokens_details': {'audio_tokens': 0, 'cached_tokens': 0}}, 'model_name': 'gpt-3.5-turbo-0125', 'system_fingerprint': None, 'id': 'chatcmpl-BeflGB5oBiiH0cbBsxxDf27kUedjH', 'service_tier': 'default', 'finish_reason': 'tool_calls', 'logprobs': None}, id='run--f7ccaca6-3452-4579-86e2-aaa03719b861-0', tool_calls=[{'name': 'search', 'args': {'query': 'reason behind Hamas-Israel conflict'}, 'id': 'call_G1dTbacfsIVGWvSnkOSvJbrg', 'type': 'tool_call'}], usage_metadata={'input_tokens': 79, 'output_tokens': 17, 'total_tokens': 96, 'input_token_details': {'audio': 0, 'cache_read': 0}, 'output_token_details': {'audio': 0, 'reasoning': 0}})"
      ]
     },
     "execution_count": 11,
     "metadata": {},
     "output_type": "execute_result"
    }
   ],
   "source": [
    "result"
   ]
  },
  {
   "cell_type": "code",
   "execution_count": 12,
   "id": "afe45fee",
   "metadata": {},
   "outputs": [],
   "source": [
    "tool_details= result.additional_kwargs['tool_calls']"
   ]
  },
  {
   "cell_type": "code",
   "execution_count": 13,
   "id": "13bd770c",
   "metadata": {},
   "outputs": [
    {
     "data": {
      "text/plain": [
       "[{'id': 'call_G1dTbacfsIVGWvSnkOSvJbrg',\n",
       "  'function': {'arguments': '{\"query\":\"reason behind Hamas-Israel conflict\"}',\n",
       "   'name': 'search'},\n",
       "  'type': 'function'}]"
      ]
     },
     "execution_count": 13,
     "metadata": {},
     "output_type": "execute_result"
    }
   ],
   "source": [
    "tool_details"
   ]
  },
  {
   "cell_type": "code",
   "execution_count": 14,
   "id": "ebb58131",
   "metadata": {},
   "outputs": [],
   "source": [
    "tool= tool_details[0]['function'].get('name')"
   ]
  },
  {
   "cell_type": "code",
   "execution_count": 15,
   "id": "3621fb8c",
   "metadata": {},
   "outputs": [
    {
     "data": {
      "text/plain": [
       "'search'"
      ]
     },
     "execution_count": 15,
     "metadata": {},
     "output_type": "execute_result"
    }
   ],
   "source": [
    "tool"
   ]
  },
  {
   "cell_type": "code",
   "execution_count": 16,
   "id": "4f321656",
   "metadata": {},
   "outputs": [
    {
     "data": {
      "text/plain": [
       "'{\"query\":\"reason behind Hamas-Israel conflict\"}'"
      ]
     },
     "execution_count": 16,
     "metadata": {},
     "output_type": "execute_result"
    }
   ],
   "source": [
    "tool_details[0]['function'].get('arguments')"
   ]
  },
  {
   "cell_type": "code",
   "execution_count": 17,
   "id": "52321cb1",
   "metadata": {},
   "outputs": [
    {
     "data": {
      "text/plain": [
       "[{'title': 'Israel-Hamas War | Explanation, Summary, Ceasefire ... - Britannica',\n",
       "  'url': 'https://www.britannica.com/event/Israel-Hamas-War',\n",
       "  'content': 'The first major conflict between Israel and Hamas, which included Israeli air strikes and a ground invasion, took place at the end of 2008. Hostilities continued to break out, most notably in 2012, 2014, and 2021. Among the factors complicating those hostilities were the high [population density](https://www.britannica.com/science/population-density) of the Gaza Strip and the proliferation of subterranean tunnels there. Those tunnels were used by Hamas and other Gazans to sidestep the blockade, [...] **Israel-Hamas War**, war between [Israel](https://www.britannica.com/place/Israel) and Palestinian militants, especially [Hamas](https://www.britannica.com/topic/Hamas) and the [Palestinian Islamic Jihad](https://www.britannica.com/topic/Palestinian-Islamic-Jihad) (PIJ), that began on October 7, 2023, when Hamas launched a land, sea, and air assault on Israel from the [Gaza Strip](https://www.britannica.com/place/Gaza-Strip). The October 7 attack resulted in more than 1,200 deaths, primarily [...] [See all related content](https://www.britannica.com/facts/Israel-Hamas-War)\\n\\n Top Questions \\n\\n### What was the immediate cause of the Israel-Hamas war?\\n\\nThe war began when [Hamas](https://www.britannica.com/topic/Hamas) launched a coordinated land, sea, and air assault on Israel from the Gaza Strip on October 7, 2023.\\n\\n### How many people were killed during the October 7 attack?\\n\\nMore than 1,200 people were killed during the October 7 attack, primarily Israeli citizens.',\n",
       "  'score': 0.7355091},\n",
       " {'title': 'The Israel-Hamas War: Frequently Asked Questions',\n",
       "  'url': 'https://www.washingtoninstitute.org/israel-hamas-war-frequently-asked-questions',\n",
       "  'content': 'After taking power, Hamas provoked conflicts with Israel in 2008-9, 2012, 2014, and 2021, with more limited skirmishes occurring in the years between. The group rejected every opportunity to renounce “resistance” in favor of a governing partnership with Fatah and entry into PLO institutions. At the same time, it used construction materials imported into Gaza to create a homegrown weapons arsenal and a vast subterranean network of military tunnels. [Read [...] To safeguard its citizens, Israel is fighting to eliminate Hamas as a terrorist army and governing authority in Gaza. This means preventing the group from rearming and reorganizing, as well as finding an alternative authority that is moderate and supported by regional and international entities. Israel is also fighting to return the dozens of hostages still held captive in Gaza. [Read more.](https://www.washingtoninstitute.org/node/18588) [...] Like many other observers, Israeli officials believed that as Hamas governed Gaza, it would gradually become more moderate and focus on civil affairs. They therefore created a modus vivendi: Israel accepted Hamas governance, and Hamas provided a period of relative quiet. Throughout this period, however, the group kept sending arms to the West Bank, Lebanon, Syria, East Jerusalem, and Arab Israeli communities, fomenting further terrorist activity.',\n",
       "  'score': 0.7166357},\n",
       " {'title': 'Why Did Hamas Attack Israel? - Israeli-Palestinian Conflict Timeline',\n",
       "  'url': 'https://education.cfr.org/learn/learning-journey/why-did-hamas-attack-israel/israeli-palestinian-conflict-timeline',\n",
       "  'content': 'unreachable. After almost a year of fighting, Israel and Hamas are still in conflict. Over 40,000 Palestinians have been killed, many of them civilians. Over 100 Israeli hostages are still held by Hamas. Meanwhile, in support of Hezbollah, Iran launches over 150 ballistic missiles into Israel. Experts increasingly fear these events could lead to an even larger regional war. [...] The conflict between the Israelis and the Palestinians\\xa0reflects a long-standing struggle in the region encompassing the land between the Jordan River to the east and the Mediterranean Sea to the west. That conflict has deep historical roots, shaped by statehood claims from the Israelis and the Palestinians that have been supported by various international agendas and activities over time. [...] Hamas launches an unprecedented surprise attack on Israel, leading to an explosion of violence. \\xa0According to the Israeli government, the attack kills approximately 1,200 people, many of them civilians. Over 200 people are also taken hostage. The attack is the deadliest in Israel’s history. Hamas military leaders justify the attack by citing Israel’s long-running [blockade](https://education.cfr.org/cfr_glossary/761) on Gaza and its occupation of Palestinian lands. Following the attack, Israel',\n",
       "  'score': 0.68496037},\n",
       " {'title': 'Why Did Hamas Attack Israel? - About This Journey - CFR Education',\n",
       "  'url': 'https://education.cfr.org/learn/learning-journey/why-did-hamas-attack-israel/about-this-journey',\n",
       "  'content': \"Hamas justified their attack by citing Israel's occupation of the Palestinian territories—and what it calls atrocities against the Palestinian people. (Although Palestine is not a member of the United Nations, many countries recognize the state, which includes both the Gaza Strip, as well as the West Bank and East Jerusalem.)\",\n",
       "  'score': 0.59457535},\n",
       " {'title': 'What is Hamas and why is it fighting with Israel in Gaza? - BBC',\n",
       "  'url': 'https://www.bbc.com/news/world-middle-east-67039975',\n",
       "  'content': 'Israeli Prime Minister Benjamin Netanyahu said Israel\\'s aims included destroying Hamas, returning the hostages and making sure Israel cannot be threatened in future.\\n\\nThe Israeli government also said it wanted tens of thousands of displaced Israelis to be able to return to their homes in northern Israel, near the border with Lebanon, following attacks by Hamas\\'s ally Hezbollah. [...] More than 400 Israeli soldiers have been killed in the fighting, the Israeli military says.\\n\\nBoth Israel and Hamas have been accused of committing war crimes and human rights abuses.\\n\\nThe [UN Human Rights Council says both sides have mounted attacks](https://www.bbc.co.uk/news/articles/cl55gzp7vn9o) against civilian populations and are responsible for \"murder or wilful killings\". Both have rejected the report\\'s findings. [...] Sinwar had disappeared at the start of the war and, before the chance encounter in which he was killed, it was assumed he had spent much of the conflict hiding in tunnels beneath Gaza.\\n\\nSeveral other top commanders of Hamas have been killed by Israel since the war began.\\n\\nAs a result of the conflict, the group\\'s infrastructure and ability to operate openly in the Gaza Strip have been all but destroyed.',\n",
       "  'score': 0.5835125}]"
      ]
     },
     "execution_count": 17,
     "metadata": {},
     "output_type": "execute_result"
    }
   ],
   "source": [
    "tool_mapping[tool].invoke(json.loads(tool_details[0]['function'].get('arguments')))"
   ]
  },
  {
   "cell_type": "code",
   "execution_count": 18,
   "id": "848d1852",
   "metadata": {},
   "outputs": [],
   "source": [
    "class AgentState(TypedDict):\n",
    "    messages: Annotated[Sequence[BaseMessage], operator.add]\n",
    "    \n",
    "def invoke_model(state:AgentState):\n",
    "    messages = state['messages']\n",
    "    question = messages[-1]   \n",
    "    return {\"messages\":[llm_with_tools.invoke(question)]}\n",
    "     "
   ]
  },
  {
   "cell_type": "code",
   "execution_count": 19,
   "id": "f0a4b244",
   "metadata": {},
   "outputs": [],
   "source": [
    "def invoke_tool(state:AgentState):\n",
    "    tool_details= state['messages'][-1].additional_kwargs.get(\"tool_calls\", [])[0]\n",
    "    \n",
    "    if tool_details is None:\n",
    "        raise Exception(\"no tool call found\")\n",
    "    \n",
    "    print(f'Selected tool: {tool_details.get(\"function\").get(\"name\")}')\n",
    "    \n",
    "    if tool_details.get(\"function\").get(\"name\")==\"search\":\n",
    "        response = input(prompt=f\"[y/n] continue with expensive web search?\")\n",
    "        if response == \"n\":\n",
    "            raise Exception(\"web search discard\")\n",
    "        \n",
    "    response = tool_mapping[tool_details['function']['name']].invoke(json.loads(tool_details.get(\"function\").get(\"arguments\")))\n",
    "    return {\"messages\" : [response]}"
   ]
  },
  {
   "cell_type": "code",
   "execution_count": 20,
   "id": "90a08dfc",
   "metadata": {},
   "outputs": [],
   "source": [
    "def router(state):\n",
    "    tool_calls = state['messages'][-1].additional_kwargs.get(\"tool_calls\", [])\n",
    "    if len(tool_calls):\n",
    "        return \"tool\"\n",
    "    else:\n",
    "        return \"end\""
   ]
  },
  {
   "cell_type": "code",
   "execution_count": 21,
   "id": "3a1023cd",
   "metadata": {},
   "outputs": [],
   "source": [
    "graph = StateGraph(AgentState) \n",
    "\n",
    "graph.add_node(\"ai_assistant\", invoke_model)\n",
    "\n",
    "graph.add_node(\"tool\", invoke_tool)\n",
    "\n",
    "graph.add_conditional_edges(\"ai_assistant\", router, {\"tool\": \"tool\",\"end\": END,})\n",
    "\n",
    "graph.add_edge(\"tool\", END)\n",
    "graph.set_entry_point(\"ai_assistant\")\n",
    "app = graph.compile()"
   ]
  },
  {
   "cell_type": "code",
   "execution_count": 22,
   "id": "170f5aa7",
   "metadata": {},
   "outputs": [
    {
     "data": {
      "image/png": "[encoded data removed]",
      "text/plain": [
       "<IPython.core.display.Image object>"
      ]
     },
     "metadata": {},
     "output_type": "display_data"
    }
   ],
   "source": [
    "from IPython.display import Image, display\n",
    "display(Image(app.get_graph().draw_mermaid_png()))"
   ]
  },
  {
   "cell_type": "code",
   "execution_count": null,
   "id": "edf7824e",
   "metadata": {},
   "outputs": [
    {
     "name": "stdout",
     "output_type": "stream",
     "text": [
      "{'messages': [AIMessage(content='', additional_kwargs={'tool_calls': [{'id': 'call_AU0Vx2qGCU1OK7HSgILrepfZ', 'function': {'arguments': '{\"query\":\"Reasons for the Russia-Ukraine war\"}', 'name': 'search'}, 'type': 'function'}], 'refusal': None}, response_metadata={'token_usage': {'completion_tokens': 20, 'prompt_tokens': 83, 'total_tokens': 103, 'completion_tokens_details': {'accepted_prediction_tokens': 0, 'audio_tokens': 0, 'reasoning_tokens': 0, 'rejected_prediction_tokens': 0}, 'prompt_tokens_details': {'audio_tokens': 0, 'cached_tokens': 0}}, 'model_name': 'gpt-3.5-turbo-0125', 'system_fingerprint': None, 'id': 'chatcmpl-BefkiobrluJgmaDiqD5rgIbArYJEK', 'service_tier': 'default', 'finish_reason': 'tool_calls', 'logprobs': None}, id='run--b49bd927-61fb-4a30-8941-65dbcbf1b7f1-0', tool_calls=[{'name': 'search', 'args': {'query': 'Reasons for the Russia-Ukraine war'}, 'id': 'call_AU0Vx2qGCU1OK7HSgILrepfZ', 'type': 'tool_call'}], usage_metadata={'input_tokens': 83, 'output_tokens': 20, 'total_tokens': 103, 'input_token_details': {'audio': 0, 'cache_read': 0}, 'output_token_details': {'audio': 0, 'reasoning': 0}})]}\n",
      "----\n",
      "Selected tool: search\n"
     ]
    }
   ],
   "source": [
    "for s in app.stream({\"messages\": [\"Why is the russia-ukrain war is happing?\"]}):\n",
    "    print(list(s.values())[0])\n",
    "    print(\"----\")"
   ]
  },
  {
   "cell_type": "markdown",
   "id": "fa483b91",
   "metadata": {},
   "source": [
    "### LangGraph's interrupt_before functionality(human-in-the-loop)to always break the tool node.\n"
   ]
  },
  {
   "cell_type": "code",
   "execution_count": 29,
   "id": "01ab2746",
   "metadata": {},
   "outputs": [],
   "source": [
    "class AgentState(TypedDict):\n",
    "    messages: Annotated[list, add_messages]"
   ]
  },
  {
   "cell_type": "code",
   "execution_count": 30,
   "id": "37e1e48f",
   "metadata": {},
   "outputs": [],
   "source": [
    "tavily=TavilySearchResults()\n",
    "tools = [tavily]\n",
    "llm_with_tools = llm.bind_tools(tools)"
   ]
  },
  {
   "cell_type": "code",
   "execution_count": 31,
   "id": "7ac0b6bf",
   "metadata": {},
   "outputs": [],
   "source": [
    "def ai_assistant(state: AgentState):\n",
    "    return {\"messages\": [llm_with_tools.invoke(state[\"messages\"])]}\n",
    "     "
   ]
  },
  {
   "cell_type": "code",
   "execution_count": 32,
   "id": "c089542b",
   "metadata": {},
   "outputs": [],
   "source": [
    "memory = MemorySaver()"
   ]
  },
  {
   "cell_type": "code",
   "execution_count": 33,
   "id": "936f47bc",
   "metadata": {},
   "outputs": [
    {
     "data": {
      "text/plain": [
       "<langgraph.graph.state.StateGraph at 0x1124bd090>"
      ]
     },
     "execution_count": 33,
     "metadata": {},
     "output_type": "execute_result"
    }
   ],
   "source": [
    "graph = StateGraph(AgentState)\n",
    "graph.add_node(\"ai_assistant\", ai_assistant)\n",
    "\n",
    "tool_node = ToolNode(tools=tools)\n",
    "graph.add_node(\"tools\", tool_node)\n",
    "graph.add_edge(START, \"ai_assistant\")\n",
    "\n",
    "graph.add_conditional_edges(\n",
    "    \"ai_assistant\",\n",
    "    tools_condition,\n",
    ")\n",
    "graph.add_edge(\"tools\", \"ai_assistant\")\n",
    "     "
   ]
  },
  {
   "cell_type": "code",
   "execution_count": 34,
   "id": "47716967",
   "metadata": {},
   "outputs": [],
   "source": [
    "app1 = graph.compile(\n",
    "    checkpointer=memory,\n",
    "    interrupt_before=[\"tools\"], # Here interrupt_before= ['tools] means when it is cleared by ai_assistent that for this certain query we are going to use tools in that case before hitting the right tool (told by ai_assistent) our model required human intervention. until human will intervene the model will be stoped here only(not hit the that defined 'tool'). it will just wait for human intervantion indefinetely. we can also interrupt __after__ tools, if desired, interrupt_after=[\"tools\"].\n",
    "    )"
   ]
  },
  {
   "cell_type": "code",
   "execution_count": 35,
   "id": "52c4e083",
   "metadata": {},
   "outputs": [
    {
     "data": {
      "image/png": "[encoded data removed]",
      "text/plain": [
       "<IPython.core.display.Image object>"
      ]
     },
     "metadata": {},
     "output_type": "display_data"
    }
   ],
   "source": [
    "from IPython.display import Image, display\n",
    "display(Image(app1.get_graph().draw_mermaid_png()))\n",
    "     "
   ]
  },
  {
   "cell_type": "code",
   "execution_count": 36,
   "id": "a91451e8",
   "metadata": {},
   "outputs": [],
   "source": [
    "user_input = \"who is the current president of USA?\"\n",
    "config = {\"configurable\": {\"thread_id\": \"001\"}}"
   ]
  },
  {
   "cell_type": "code",
   "execution_count": 37,
   "id": "8757d17f",
   "metadata": {},
   "outputs": [],
   "source": [
    "events = app1.stream(\n",
    "    {\"messages\": [(\"user\", user_input)]}, config, stream_mode=\"values\"\n",
    ")"
   ]
  },
  {
   "cell_type": "code",
   "execution_count": 38,
   "id": "88c14d89",
   "metadata": {},
   "outputs": [
    {
     "name": "stdout",
     "output_type": "stream",
     "text": [
      "================================\u001b[1m Human Message \u001b[0m=================================\n",
      "\n",
      "who is the current president of USA?\n",
      "==================================\u001b[1m Ai Message \u001b[0m==================================\n",
      "Tool Calls:\n",
      "  tavily_search_results_json (call_jvMUJZJ1kXGdWI6L5f8DZnAr)\n",
      " Call ID: call_jvMUJZJ1kXGdWI6L5f8DZnAr\n",
      "  Args:\n",
      "    query: current president of USA\n"
     ]
    }
   ],
   "source": [
    "for event in events:\n",
    "    if \"messages\" in event:\n",
    "        event[\"messages\"][-1].pretty_print()"
   ]
  },
  {
   "cell_type": "markdown",
   "id": "0aa2b057",
   "metadata": {},
   "source": [
    "#### Here from above output we can clearly see that for query \"who is the current president of USA?\" our ai_assistent required tool's help, but we already 'interrupt_before=[\"tools\"]' defined which is stoping the process before hitting the concerned tool. \n"
   ]
  },
  {
   "cell_type": "code",
   "execution_count": 39,
   "id": "310a21e2",
   "metadata": {},
   "outputs": [],
   "source": [
    "snapshot = app1.get_state(config)"
   ]
  },
  {
   "cell_type": "code",
   "execution_count": 40,
   "id": "5c6e712f",
   "metadata": {},
   "outputs": [
    {
     "data": {
      "text/plain": [
       "('tools',)"
      ]
     },
     "execution_count": 40,
     "metadata": {},
     "output_type": "execute_result"
    }
   ],
   "source": [
    "snapshot.next  # tell what is the next step for that this process required human intervention."
   ]
  },
  {
   "cell_type": "code",
   "execution_count": 41,
   "id": "48c07a65",
   "metadata": {},
   "outputs": [],
   "source": [
    "last_message=snapshot.values[\"messages\"][-1]"
   ]
  },
  {
   "cell_type": "code",
   "execution_count": 42,
   "id": "f6867b96",
   "metadata": {},
   "outputs": [
    {
     "data": {
      "text/plain": [
       "[{'name': 'tavily_search_results_json',\n",
       "  'args': {'query': 'current president of USA'},\n",
       "  'id': 'call_jvMUJZJ1kXGdWI6L5f8DZnAr',\n",
       "  'type': 'tool_call'}]"
      ]
     },
     "execution_count": 42,
     "metadata": {},
     "output_type": "execute_result"
    }
   ],
   "source": [
    "last_message.tool_calls    # Tool details to which this is going to call "
   ]
  },
  {
   "cell_type": "markdown",
   "id": "49198828",
   "metadata": {},
   "source": [
    "#### So, because process/flow has stoped, to resume the flow we need to just pass the 'None' ,  by this it will resume the stoped process."
   ]
  },
  {
   "cell_type": "code",
   "execution_count": 43,
   "id": "38df46bc",
   "metadata": {},
   "outputs": [],
   "source": [
    "events = app1.stream(None, config, stream_mode=\"values\")"
   ]
  },
  {
   "cell_type": "code",
   "execution_count": 44,
   "id": "35bf0135",
   "metadata": {},
   "outputs": [
    {
     "name": "stdout",
     "output_type": "stream",
     "text": [
      "==================================\u001b[1m Ai Message \u001b[0m==================================\n",
      "Tool Calls:\n",
      "  tavily_search_results_json (call_jvMUJZJ1kXGdWI6L5f8DZnAr)\n",
      " Call ID: call_jvMUJZJ1kXGdWI6L5f8DZnAr\n",
      "  Args:\n",
      "    query: current president of USA\n",
      "=================================\u001b[1m Tool Message \u001b[0m=================================\n",
      "Name: tavily_search_results_json\n",
      "\n",
      "[{\"title\": \"Presidents, vice presidents, and first ladies | USAGov\", \"url\": \"https://www.usa.gov/presidents\", \"content\": \"Learn about the duties of president, vice president, and first lady of the United States. Find out how to contact and learn more about current and past leaders.\\n\\n## President of the United States\\n\\nThe president of the United States is the:\\n\\n### Current president\\n\\n[The 47th and current president of the United States is Donald John Trump.](https://www.whitehouse.gov/administration/donald-j-trump/) He was sworn into office on January 20, 2025.\\n\\n### Former U.S. presidents [...] [The 50th and current vice president of the United States is James David (JD) Vance.](https://www.whitehouse.gov/administration/jd-vance/) He was sworn in on January 20, 2025\\n\\n### Former vice presidents\\n\\n[Read about past presidents and vice presidents.](https://history.house.gov/Institution/Presidents-Coinciding/Presidents-Coinciding/)\\n\\n## First lady [...] The First lady of the United States has traditionally been the wife or other close female relative of the president of the United States. First ladies:\\n\\n### Current first lady\\n\\n[The current first lady of the United States is Melania Trump.](https://www.whitehouse.gov/administration/melania-trump/)\\n\\n### Former first ladies\\n\\n[Find a list of former first ladies](https://www.loc.gov/rr/print/list/057_chron.html) and their presidential spouses.\", \"score\": 0.84707206}, {\"title\": \"President of the United States - Ballotpedia\", \"url\": \"https://ballotpedia.org/President_of_the_United_States\", \"content\": \"The **President of the United States** (POTUS) is the head of the United States government. [Article II of the U.S. Constitution](/Article_II,_United_States_Constitution \\\"Article II, United States Constitution\\\") laid out the requirements and roles of the president.[[1]](#cite_note-1) The current president is [Donald Trump](/Donald_Trump \\\"Donald Trump\\\") (R).\\n\\n## Election requirements\\n\\nAs laid out in Article II, Section 1 of the Constitution: [...] | [v](/Template:Executive_branch \\\"Template:Executive branch\\\") • [e](https://ballotpedia.org/wiki/index.php?title=Template:Executive_branch&action=edit) [U.S. Executive Branch](/Executive_Branch \\\"Executive Branch\\\") | | |\\n| --- | --- | --- |\\n|  |\\n| Elected offices | President [Donald Trump](/Donald_Trump \\\"Donald Trump\\\") • Vice President [J.D. Vance](/J.D._Vance \\\"J.D. Vance\\\")   --- | [Executive-Branch-Logo.png](/Executive_Branch \\\"Executive Branch\\\") |\\n|  | [...] [Gerald Ford](/Gerald_Ford \\\"Gerald Ford\\\") • [Jimmy Carter](/Jimmy_Carter \\\"Jimmy Carter\\\") • [Ronald Reagan](/Ronald_Reagan \\\"Ronald Reagan\\\") • [George H.W. Bush](/George_H.W._Bush \\\"George H.W. Bush\\\") • [Bill Clinton](/Bill_Clinton \\\"Bill Clinton\\\") • [George W. Bush](/George_W._Bush \\\"George W. Bush\\\") • [Barack Obama](/Barack_Obama \\\"Barack Obama\\\") • [Donald Trump](/Donald_Trump \\\"Donald Trump\\\") • [Joe Biden](/Joe_Biden \\\"Joe Biden\\\") | [Ballotpedia Election Coverage Badge.png](/Portal:Elections\", \"score\": 0.81875163}, {\"title\": \"President of the United States - Wikipedia\", \"url\": \"https://en.wikipedia.org/wiki/President_of_the_United_States\", \"content\": \"In all, 45 individuals have served 47 presidencies spanning 60 four-year terms. Donald Trump is the 47th and current president since January 20, 2025.\", \"score\": 0.8051581}, {\"title\": \"President of the United States\", \"url\": \"https://usun.usmission.gov/our-leaders/the-president-of-the-united-states/\", \"content\": \"![](https://edit.usembassy.gov/wp-content/uploads/Donald-J-Trump-600x600-1.png)\\n\\n### President Donald J. Trump\\n\\nDonald J. Trump serves as the 47th President of the United States. He also served as the 45th.\\n\\n[Read the President’s full biography.](https://www.whitehouse.gov/administration/donald-j-trump/)\\n\\n### Visit The White House Website [...] ![United States of America, Department of State](https://usun.usmission.gov/wp-content/themes/cms3/dist/images/dos-logo-light.png \\\"United States of America, Department of State\\\")\\n\\n# [United States Mission to the United Nations](https://usun.usmission.gov/ \\\"United States Mission to the United Nations\\\")\\n\\n### Social / Search – EN\\n\\n# President of the United States\\n\\n![](https://edit.usembassy.gov/wp-content/uploads/Donald-J-Trump-600x600-1.png)\", \"score\": 0.67758125}, {\"title\": \"The White House\", \"url\": \"https://www.whitehouse.gov/\", \"content\": \"Donald J. Trump. President of the United States · JD Vance. VICE PRESIDENT OF THE UNITED STATES · Melania Trump. First Lady OF THE UNITED STATES · The Cabinet. Of\", \"score\": 0.64639384}]\n",
      "==================================\u001b[1m Ai Message \u001b[0m==================================\n",
      "\n",
      "The current president of the United States is Donald John Trump. He is the 47th president of the United States and was sworn into office on January 20, 2025. You can find more information about him on the [White House website](https://www.whitehouse.gov/administration/donald-j-trump/).\n"
     ]
    }
   ],
   "source": [
    "for event in events:\n",
    "    if \"messages\" in event:\n",
    "        event[\"messages\"][-1].pretty_print()"
   ]
  },
  {
   "cell_type": "code",
   "execution_count": 45,
   "id": "278b5310",
   "metadata": {},
   "outputs": [],
   "source": [
    "snapshot= app1.get_state(config)"
   ]
  },
  {
   "cell_type": "code",
   "execution_count": 47,
   "id": "6222b6b2",
   "metadata": {},
   "outputs": [
    {
     "data": {
      "text/plain": [
       "()"
      ]
     },
     "execution_count": 47,
     "metadata": {},
     "output_type": "execute_result"
    }
   ],
   "source": [
    "snapshot.next     # This is expty because there is no next step is remianed which is not executed yet."
   ]
  },
  {
   "cell_type": "markdown",
   "id": "980500ba",
   "metadata": {},
   "source": [
    "#### appending human message through human-in-the-loop"
   ]
  },
  {
   "cell_type": "code",
   "execution_count": 48,
   "id": "2bf5e456",
   "metadata": {},
   "outputs": [],
   "source": [
    "user_input = \"who is Israel's prime minister?\"\n",
    "config = {\"configurable\": {\"thread_id\": \"001\"}}"
   ]
  },
  {
   "cell_type": "code",
   "execution_count": 49,
   "id": "9bb92b48",
   "metadata": {},
   "outputs": [],
   "source": [
    "events = app1.stream(\n",
    "    {\"messages\": [(\"user\", user_input)]}, config, stream_mode=\"values\"\n",
    ")"
   ]
  },
  {
   "cell_type": "code",
   "execution_count": 50,
   "id": "c87e514a",
   "metadata": {},
   "outputs": [
    {
     "name": "stdout",
     "output_type": "stream",
     "text": [
      "================================\u001b[1m Human Message \u001b[0m=================================\n",
      "\n",
      "who is Israel's prime minister?\n",
      "==================================\u001b[1m Ai Message \u001b[0m==================================\n",
      "Tool Calls:\n",
      "  tavily_search_results_json (call_mWRRKvd5K69XgCdQu2DrqMGT)\n",
      " Call ID: call_mWRRKvd5K69XgCdQu2DrqMGT\n",
      "  Args:\n",
      "    query: current Prime Minister of Israel\n"
     ]
    }
   ],
   "source": [
    "for event in events:\n",
    "    if \"messages\" in event:\n",
    "        event[\"messages\"][-1].pretty_print()"
   ]
  },
  {
   "cell_type": "code",
   "execution_count": 51,
   "id": "9cb5f963",
   "metadata": {},
   "outputs": [],
   "source": [
    "snapshot1= app1.get_state(config)"
   ]
  },
  {
   "cell_type": "code",
   "execution_count": 52,
   "id": "cebb2704",
   "metadata": {},
   "outputs": [],
   "source": [
    "current_message= snapshot1.values['messages'][-1]"
   ]
  },
  {
   "cell_type": "code",
   "execution_count": 53,
   "id": "5cf91ac7",
   "metadata": {},
   "outputs": [
    {
     "name": "stdout",
     "output_type": "stream",
     "text": [
      "==================================\u001b[1m Ai Message \u001b[0m==================================\n",
      "Tool Calls:\n",
      "  tavily_search_results_json (call_mWRRKvd5K69XgCdQu2DrqMGT)\n",
      " Call ID: call_mWRRKvd5K69XgCdQu2DrqMGT\n",
      "  Args:\n",
      "    query: current Prime Minister of Israel\n"
     ]
    }
   ],
   "source": [
    "current_message.pretty_print()"
   ]
  },
  {
   "cell_type": "code",
   "execution_count": 63,
   "id": "87b29a37",
   "metadata": {},
   "outputs": [],
   "source": [
    "tool_call_id= current_message.tool_calls[0]['id']"
   ]
  },
  {
   "cell_type": "code",
   "execution_count": 64,
   "id": "4fb0d6b3",
   "metadata": {},
   "outputs": [
    {
     "data": {
      "text/plain": [
       "'call_mWRRKvd5K69XgCdQu2DrqMGT'"
      ]
     },
     "execution_count": 64,
     "metadata": {},
     "output_type": "execute_result"
    }
   ],
   "source": [
    "tool_call_id"
   ]
  },
  {
   "cell_type": "code",
   "execution_count": 65,
   "id": "7992596a",
   "metadata": {},
   "outputs": [],
   "source": [
    "answer = \"Current Pm of Israel is Benjamin Netanyahu\""
   ]
  },
  {
   "cell_type": "code",
   "execution_count": 66,
   "id": "5776dd22",
   "metadata": {},
   "outputs": [],
   "source": [
    "new_messages = [\n",
    "    ToolMessage(content=answer, tool_call_id=tool_call_id),\n",
    "    AIMessage(content=answer),\n",
    "]"
   ]
  },
  {
   "cell_type": "code",
   "execution_count": 67,
   "id": "7697ec2d",
   "metadata": {},
   "outputs": [
    {
     "data": {
      "text/plain": [
       "{'configurable': {'thread_id': '001',\n",
       "  'checkpoint_ns': '',\n",
       "  'checkpoint_id': '1f041317-87c7-6a04-8008-8fecb0707352'}}"
      ]
     },
     "execution_count": 67,
     "metadata": {},
     "output_type": "execute_result"
    }
   ],
   "source": [
    "app1.update_state(\n",
    "    config,\n",
    "    {\"messages\": new_messages},\n",
    ")"
   ]
  },
  {
   "cell_type": "code",
   "execution_count": 68,
   "id": "a7828107",
   "metadata": {},
   "outputs": [
    {
     "name": "stdout",
     "output_type": "stream",
     "text": [
      "[AIMessage(content='Current Pm of Israel is Benjamin Netanyahu', additional_kwargs={}, response_metadata={}, id='08da5485-3beb-4b50-ac4c-764101c18331')]\n"
     ]
    }
   ],
   "source": [
    "print(app1.get_state(config).values[\"messages\"][-1:])"
   ]
  }
 ],
 "metadata": {
  "kernelspec": {
   "display_name": ".venv",
   "language": "python",
   "name": "python3"
  },
  "language_info": {
   "codemirror_mode": {
    "name": "ipython",
    "version": 3
   },
   "file_extension": ".py",
   "mimetype": "text/x-python",
   "name": "python",
   "nbconvert_exporter": "python",
   "pygments_lexer": "ipython3",
   "version": "3.13.3"
  }
 },
 "nbformat": 4,
 "nbformat_minor": 5
}
