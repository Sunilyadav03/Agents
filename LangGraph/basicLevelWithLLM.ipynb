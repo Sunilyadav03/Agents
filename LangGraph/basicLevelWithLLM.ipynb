{
 "cells": [
  {
   "cell_type": "code",
   "execution_count": 2,
   "id": "cb43571a",
   "metadata": {},
   "outputs": [],
   "source": [
    "from langgraph.graph import Graph, START, END\n",
    "from IPython.display import Image, display\n",
    "from langchain_openai import ChatOpenAI\n",
    "from dotenv import load_dotenv "
   ]
  },
  {
   "cell_type": "code",
   "execution_count": 15,
   "id": "ce7dc2fa",
   "metadata": {},
   "outputs": [],
   "source": [
    "llm= ChatOpenAI()\n",
    "graph= Graph()"
   ]
  },
  {
   "cell_type": "code",
   "execution_count": 16,
   "id": "958589cf",
   "metadata": {},
   "outputs": [],
   "source": [
    "def node1(start):\n",
    "    return start"
   ]
  },
  {
   "cell_type": "code",
   "execution_count": 17,
   "id": "f3a75e96",
   "metadata": {},
   "outputs": [],
   "source": [
    "def node2(input):\n",
    "    return input.upper()"
   ]
  },
  {
   "cell_type": "code",
   "execution_count": 18,
   "id": "ce73c634",
   "metadata": {},
   "outputs": [],
   "source": [
    "def node3(data):\n",
    "    return llm.invoke(data).content"
   ]
  },
  {
   "cell_type": "code",
   "execution_count": 19,
   "id": "cb1ae962",
   "metadata": {},
   "outputs": [
    {
     "data": {
      "text/plain": [
       "<langgraph.graph.graph.Graph at 0x1143a3ed0>"
      ]
     },
     "execution_count": 19,
     "metadata": {},
     "output_type": "execute_result"
    }
   ],
   "source": [
    "graph.add_node('node1', node1)\n",
    "graph.add_node('node2', node2)\n",
    "graph.add_node('llm', node3)\n",
    "graph.add_edge(START, 'node1')\n",
    "graph.add_edge('node1', 'llm')\n",
    "graph.add_edge('llm', 'node2')\n",
    "graph.add_edge('node2', END)\n"
   ]
  },
  {
   "cell_type": "code",
   "execution_count": 20,
   "id": "06bc8251",
   "metadata": {},
   "outputs": [],
   "source": [
    "graph= graph.compile()"
   ]
  },
  {
   "cell_type": "code",
   "execution_count": 23,
   "id": "0aef6cce",
   "metadata": {},
   "outputs": [
    {
     "data": {
      "image/png": "[encoded data removed]",
      "text/plain": [
       "<IPython.core.display.Image object>"
      ]
     },
     "metadata": {},
     "output_type": "display_data"
    }
   ],
   "source": [
    "try:\n",
    "    display(Image(graph.get_graph().draw_mermaid_png(max_retries=2, retry_delay=2.0)))\n",
    "except Exception as e:\n",
    "    print(e)"
   ]
  },
  {
   "cell_type": "code",
   "execution_count": 26,
   "id": "7ef03e7d",
   "metadata": {},
   "outputs": [
    {
     "data": {
      "text/plain": [
       "'AS OF SEPTEMBER 2021, THE PRIME MINISTER OF INDIA IS NARENDRA MODI. HIS CURRENT TERM BEGAN ON MAY 30, 2019, AFTER HIS PARTY, THE BHARATIYA JANATA PARTY (BJP), WON THE GENERAL ELECTIONS IN INDIA.'"
      ]
     },
     "execution_count": 26,
     "metadata": {},
     "output_type": "execute_result"
    }
   ],
   "source": [
    "graph.invoke(\"Who is Prime minister of India and what is his term?\")"
   ]
  },
  {
   "cell_type": "code",
   "execution_count": null,
   "id": "3805c63b",
   "metadata": {},
   "outputs": [],
   "source": []
  }
 ],
 "metadata": {
  "kernelspec": {
   "display_name": ".venv",
   "language": "python",
   "name": "python3"
  },
  "language_info": {
   "codemirror_mode": {
    "name": "ipython",
    "version": 3
   },
   "file_extension": ".py",
   "mimetype": "text/x-python",
   "name": "python",
   "nbconvert_exporter": "python",
   "pygments_lexer": "ipython3",
   "version": "3.13.3"
  }
 },
 "nbformat": 4,
 "nbformat_minor": 5
}
